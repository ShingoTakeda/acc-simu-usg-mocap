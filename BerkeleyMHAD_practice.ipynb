{
 "cells": [
  {
   "cell_type": "code",
   "execution_count": 1,
   "metadata": {},
   "outputs": [],
   "source": [
    "import pandas as pd\n",
    "import matplotlib.pyplot as plt\n",
    "from statistics import median,mean\n",
    "%matplotlib inline\n",
    "from pylab import rcParams\n",
    "import sympy as sym\n",
    "import numpy as np\n",
    "def obtain_statistical_feature(window):\n",
    "    #features = np.array(np.array(np.var(window, axis=0)))\n",
    "    #features=np.array(np.array(np.mean(window-np.mean(window), axis=0)))\n",
    "    features=np.array( np.array(np.mean(window-np.median(window), axis=0))) \n",
    "    features=np.append(features, np.array(np.std(window, axis=0))) \n",
    "    features=np.append(features, np.array(np.var(window, axis=0)))\n",
    "    features=np.append(features, np.array(s.skew(window, axis=0)))\n",
    "    features=np.append(features, np.array(s.kurtosis(window, axis=0)))\n",
    "    features=np.append(features, np.array(get_tw_variance(window)))\n",
    "    return features.reshape(1,len(features))"
   ]
  },
  {
   "cell_type": "code",
   "execution_count": 2,
   "metadata": {},
   "outputs": [
    {
     "data": {
      "text/plain": [
       "'/Users/takeshin/odrive/sozolab_gdrive/students/Shingo/BerkeleyMHAD'"
      ]
     },
     "execution_count": 2,
     "metadata": {},
     "output_type": "execute_result"
    }
   ],
   "source": [
    "pwd"
   ]
  },
  {
   "cell_type": "markdown",
   "metadata": {},
   "source": [
    "# Jumping in place"
   ]
  },
  {
   "cell_type": "markdown",
   "metadata": {},
   "source": [
    "# Acceleromater"
   ]
  },
  {
   "cell_type": "code",
   "execution_count": null,
   "metadata": {
    "scrolled": true
   },
   "outputs": [],
   "source": [
    "#左手首の加速度データの読み込み\n",
    "acc_lw = pd.read_csv(\"/Users/takeshin/odrive/sozolab_gdrive/students/Shingo/BerkeleyMHAD/Accelerometer/Shimmer05/acc_h05_s01_a01_r01.txt\",sep=' ' ,header=None,names=['X','Y','Z','TimeStamp'])\n",
    "acc_lw.head()"
   ]
  },
  {
   "cell_type": "code",
   "execution_count": null,
   "metadata": {},
   "outputs": [],
   "source": [
    "#len(acc_lw)\n",
    "acc_lw[\"TimeStamp\"][0]\n",
    "#acc_lw.loc[:,acc_lw.columns != \"TimeStamp\"]\n"
   ]
  },
  {
   "cell_type": "code",
   "execution_count": null,
   "metadata": {},
   "outputs": [],
   "source": [
    "#acc_lw[\"TimeStamp\"].tolist()\n",
    "#acc_lw.index.tolist()"
   ]
  },
  {
   "cell_type": "code",
   "execution_count": null,
   "metadata": {
    "scrolled": false
   },
   "outputs": [],
   "source": [
    "#print(acc_lw.shape)  #182行4列\n",
    "print(acc_lw['TimeStamp'].max()-acc_lw['TimeStamp'].min() ,\"seconds\")"
   ]
  },
  {
   "cell_type": "code",
   "execution_count": null,
   "metadata": {},
   "outputs": [],
   "source": [
    "acc_lw.describe()"
   ]
  },
  {
   "cell_type": "code",
   "execution_count": null,
   "metadata": {
    "scrolled": true
   },
   "outputs": [],
   "source": [
    "#正規化のためにもっとも絶対値の大きい値を調べる\n",
    "#max_val = max(abs(acc_lw['X'].max()),abs(acc_lw['X'].min()),abs(acc_lw['Y'].max()),abs(acc_lw['Y'].min()),abs(acc_lw['Z'].max()),abs(acc_lw['Z'].min()))"
   ]
  },
  {
   "cell_type": "code",
   "execution_count": null,
   "metadata": {},
   "outputs": [],
   "source": []
  },
  {
   "cell_type": "code",
   "execution_count": null,
   "metadata": {
    "scrolled": false
   },
   "outputs": [],
   "source": [
    "#加速度グラフ生成\n",
    "acx = acc_lw[['TimeStamp']]\n",
    "\n",
    "acy1 = acc_lw['X']\n",
    "acy2 = acc_lw['Y']\n",
    "acy3 = acc_lw['Z']\n",
    "\n",
    "#normalization\n",
    "#acy1 = [a / max_val for a in acc_lw['X']]\n",
    "#acy2 = [a / max_val for a in acc_lw['Y']]\n",
    "#acy3 = [a / max_val for a in acc_lw['Z']]\n",
    "\n",
    "rcParams['figure.figsize'] = 18,9\n",
    "plt.plot(acx,acy1,label = \"x\",color = \"red\")\n",
    "plt.plot(acx,acy2,label=\"y\",color = \"blue\")\n",
    "plt.plot(acx,acy3,label=\"z\",color = 'green')\n",
    "plt.legend()\n",
    "\n",
    "plt.xlabel(\"time stamp [s]\")\n",
    "plt.ylabel(\"Acceleromerter X,Y,Z [G]\")\n",
    "plt.title(\"Accelerometer\")"
   ]
  },
  {
   "cell_type": "code",
   "execution_count": null,
   "metadata": {},
   "outputs": [],
   "source": [
    "#low-pass filter linear acceleration\n",
    "#線形加速度を得る\n",
    "alpha = 0.9\n",
    "for  c  in  ['X','Y','Z']:\n",
    "    g = 0  \n",
    "    col = acc_lw[c]           #'X'列から1列ずつ見る\n",
    "    for r in range(len(acc_lw)):         #1行ずつ見る\n",
    "        g = alpha*g + (1-alpha) * col[r]\n",
    "        linear = col[r] - g\n",
    "        acc_lw.iloc[r][c] = linear\n",
    "    \n",
    "linear_acc = acc_lw"
   ]
  },
  {
   "cell_type": "code",
   "execution_count": null,
   "metadata": {},
   "outputs": [],
   "source": []
  },
  {
   "cell_type": "code",
   "execution_count": null,
   "metadata": {
    "scrolled": true
   },
   "outputs": [],
   "source": [
    "linear_acc['TimeStamp'][0]"
   ]
  },
  {
   "cell_type": "code",
   "execution_count": null,
   "metadata": {},
   "outputs": [],
   "source": [
    "#加速度グラフ生成(線形加速)\n",
    "acx = linear_acc[['TimeStamp']]\n",
    "\n",
    "acy1 = linear_acc['X']\n",
    "acy2 = linear_acc['Y']\n",
    "acy3 = linear_acc['Z']\n",
    "\n",
    "rcParams['figure.figsize'] = 18,9\n",
    "plt.plot(acx,acy1,label = \"x\",color = \"red\")\n",
    "plt.plot(acx,acy2,label=\"y\",color = \"blue\")\n",
    "plt.plot(acx,acy3,label=\"z\",color = 'green')\n",
    "plt.legend()\n",
    "\n",
    "plt.xlabel(\"time stamp [s]\")\n",
    "plt.ylabel(\"Acceleromerter X,Y,Z [G]\")\n",
    "plt.title(\"Accelerometer(after)\")"
   ]
  },
  {
   "cell_type": "code",
   "execution_count": null,
   "metadata": {},
   "outputs": [],
   "source": [
    "#合成加速度を求める\n",
    "def one_acc(data):\n",
    "    xyz = pd.DataFrame(columns=[\"acc\"])\n",
    "    accs = []\n",
    "    for i in range(len(data)):\n",
    "        #ベクトルの大きさを求める\n",
    "        acc = np.linalg.norm(data.loc[i][data.columns != \"TimeStamp\"])\n",
    "        accs.append(acc)\n",
    "    xyz[\"acc\"]= accs\n",
    "    xyz[\"TimeStamp\"] = data[\"TimeStamp\"].tolist()\n",
    "    return xyz\n",
    "\n",
    "real_acc = one_acc(linear_acc)\n",
    "\n",
    "#加速度グラフ生成\n",
    "acx = real_acc[['TimeStamp']]\n",
    "\n",
    "acy = real_acc[['acc']]\n",
    "\n",
    "rcParams['figure.figsize'] = 18,9\n",
    "plt.plot(acx,acy,label=\"real\",color = \"red\")\n",
    "plt.legend()\n",
    "\n",
    "plt.xlabel(\"time stamp [s]\")\n",
    "plt.ylabel(\"Acceleromerter X,Y,Z [G]\")\n",
    "plt.title(\"Accelerometer\")"
   ]
  },
  {
   "cell_type": "markdown",
   "metadata": {},
   "source": [
    "# Mocap"
   ]
  },
  {
   "cell_type": "code",
   "execution_count": 2,
   "metadata": {},
   "outputs": [],
   "source": [
    "#モーションキャプチャデータの読み込み(全身)\n",
    "data_mocap = pd.read_csv(\"/Users/takeshin/odrive/sozolab_gdrive/students/Shingo/BerkeleyMHAD/Mocap/OpticalData/moc_s01_a01_r01.txt\",sep=' ',header=None)"
   ]
  },
  {
   "cell_type": "code",
   "execution_count": 3,
   "metadata": {
    "scrolled": true
   },
   "outputs": [
    {
     "data": {
      "text/html": [
       "<div>\n",
       "<style scoped>\n",
       "    .dataframe tbody tr th:only-of-type {\n",
       "        vertical-align: middle;\n",
       "    }\n",
       "\n",
       "    .dataframe tbody tr th {\n",
       "        vertical-align: top;\n",
       "    }\n",
       "\n",
       "    .dataframe thead th {\n",
       "        text-align: right;\n",
       "    }\n",
       "</style>\n",
       "<table border=\"1\" class=\"dataframe\">\n",
       "  <thead>\n",
       "    <tr style=\"text-align: right;\">\n",
       "      <th></th>\n",
       "      <th>0</th>\n",
       "      <th>1</th>\n",
       "      <th>2</th>\n",
       "      <th>3</th>\n",
       "      <th>4</th>\n",
       "      <th>5</th>\n",
       "      <th>6</th>\n",
       "      <th>7</th>\n",
       "      <th>8</th>\n",
       "      <th>9</th>\n",
       "      <th>...</th>\n",
       "      <th>121</th>\n",
       "      <th>122</th>\n",
       "      <th>123</th>\n",
       "      <th>124</th>\n",
       "      <th>125</th>\n",
       "      <th>126</th>\n",
       "      <th>127</th>\n",
       "      <th>128</th>\n",
       "      <th>129</th>\n",
       "      <th>130</th>\n",
       "    </tr>\n",
       "  </thead>\n",
       "  <tbody>\n",
       "    <tr>\n",
       "      <th>0</th>\n",
       "      <td>535.633972</td>\n",
       "      <td>1596.885742</td>\n",
       "      <td>182.630203</td>\n",
       "      <td>638.731995</td>\n",
       "      <td>1557.109741</td>\n",
       "      <td>103.225571</td>\n",
       "      <td>478.292816</td>\n",
       "      <td>1529.775635</td>\n",
       "      <td>36.972523</td>\n",
       "      <td>470.245300</td>\n",
       "      <td>...</td>\n",
       "      <td>151.815430</td>\n",
       "      <td>78.476036</td>\n",
       "      <td>400.183411</td>\n",
       "      <td>37.893978</td>\n",
       "      <td>49.051929</td>\n",
       "      <td>384.553955</td>\n",
       "      <td>44.167561</td>\n",
       "      <td>119.841316</td>\n",
       "      <td>0</td>\n",
       "      <td>1.309539e+09</td>\n",
       "    </tr>\n",
       "    <tr>\n",
       "      <th>1</th>\n",
       "      <td>535.525940</td>\n",
       "      <td>1597.152832</td>\n",
       "      <td>183.330444</td>\n",
       "      <td>638.749329</td>\n",
       "      <td>1557.116211</td>\n",
       "      <td>103.531601</td>\n",
       "      <td>478.020782</td>\n",
       "      <td>1530.198242</td>\n",
       "      <td>37.841022</td>\n",
       "      <td>470.252930</td>\n",
       "      <td>...</td>\n",
       "      <td>151.693314</td>\n",
       "      <td>78.362648</td>\n",
       "      <td>400.167511</td>\n",
       "      <td>37.912468</td>\n",
       "      <td>49.064564</td>\n",
       "      <td>384.611206</td>\n",
       "      <td>44.061180</td>\n",
       "      <td>119.831841</td>\n",
       "      <td>1</td>\n",
       "      <td>1.309539e+09</td>\n",
       "    </tr>\n",
       "    <tr>\n",
       "      <th>2</th>\n",
       "      <td>535.596985</td>\n",
       "      <td>1597.039429</td>\n",
       "      <td>183.522781</td>\n",
       "      <td>638.780151</td>\n",
       "      <td>1557.109253</td>\n",
       "      <td>103.958931</td>\n",
       "      <td>478.092926</td>\n",
       "      <td>1530.162109</td>\n",
       "      <td>37.929157</td>\n",
       "      <td>470.279816</td>\n",
       "      <td>...</td>\n",
       "      <td>151.714722</td>\n",
       "      <td>78.404068</td>\n",
       "      <td>400.146179</td>\n",
       "      <td>37.915264</td>\n",
       "      <td>49.033600</td>\n",
       "      <td>384.590485</td>\n",
       "      <td>44.102978</td>\n",
       "      <td>119.838036</td>\n",
       "      <td>2</td>\n",
       "      <td>1.309539e+09</td>\n",
       "    </tr>\n",
       "    <tr>\n",
       "      <th>3</th>\n",
       "      <td>535.639526</td>\n",
       "      <td>1597.143188</td>\n",
       "      <td>184.039703</td>\n",
       "      <td>638.775635</td>\n",
       "      <td>1557.160278</td>\n",
       "      <td>104.183563</td>\n",
       "      <td>477.950867</td>\n",
       "      <td>1530.371582</td>\n",
       "      <td>38.480976</td>\n",
       "      <td>470.298187</td>\n",
       "      <td>...</td>\n",
       "      <td>151.737381</td>\n",
       "      <td>78.505905</td>\n",
       "      <td>400.148834</td>\n",
       "      <td>37.911430</td>\n",
       "      <td>49.032551</td>\n",
       "      <td>384.516388</td>\n",
       "      <td>44.200638</td>\n",
       "      <td>119.834976</td>\n",
       "      <td>3</td>\n",
       "      <td>1.309539e+09</td>\n",
       "    </tr>\n",
       "    <tr>\n",
       "      <th>4</th>\n",
       "      <td>535.655212</td>\n",
       "      <td>1597.121704</td>\n",
       "      <td>184.348969</td>\n",
       "      <td>638.669312</td>\n",
       "      <td>1557.312012</td>\n",
       "      <td>104.405937</td>\n",
       "      <td>477.942841</td>\n",
       "      <td>1530.448730</td>\n",
       "      <td>38.754547</td>\n",
       "      <td>470.311096</td>\n",
       "      <td>...</td>\n",
       "      <td>151.710251</td>\n",
       "      <td>78.485397</td>\n",
       "      <td>400.103546</td>\n",
       "      <td>37.932167</td>\n",
       "      <td>49.079586</td>\n",
       "      <td>384.530640</td>\n",
       "      <td>44.183495</td>\n",
       "      <td>119.837440</td>\n",
       "      <td>4</td>\n",
       "      <td>1.309539e+09</td>\n",
       "    </tr>\n",
       "  </tbody>\n",
       "</table>\n",
       "<p>5 rows × 131 columns</p>\n",
       "</div>"
      ],
      "text/plain": [
       "          0            1           2           3            4           5    \\\n",
       "0  535.633972  1596.885742  182.630203  638.731995  1557.109741  103.225571   \n",
       "1  535.525940  1597.152832  183.330444  638.749329  1557.116211  103.531601   \n",
       "2  535.596985  1597.039429  183.522781  638.780151  1557.109253  103.958931   \n",
       "3  535.639526  1597.143188  184.039703  638.775635  1557.160278  104.183563   \n",
       "4  535.655212  1597.121704  184.348969  638.669312  1557.312012  104.405937   \n",
       "\n",
       "          6            7          8           9        ...              121  \\\n",
       "0  478.292816  1529.775635  36.972523  470.245300      ...       151.815430   \n",
       "1  478.020782  1530.198242  37.841022  470.252930      ...       151.693314   \n",
       "2  478.092926  1530.162109  37.929157  470.279816      ...       151.714722   \n",
       "3  477.950867  1530.371582  38.480976  470.298187      ...       151.737381   \n",
       "4  477.942841  1530.448730  38.754547  470.311096      ...       151.710251   \n",
       "\n",
       "         122         123        124        125         126        127  \\\n",
       "0  78.476036  400.183411  37.893978  49.051929  384.553955  44.167561   \n",
       "1  78.362648  400.167511  37.912468  49.064564  384.611206  44.061180   \n",
       "2  78.404068  400.146179  37.915264  49.033600  384.590485  44.102978   \n",
       "3  78.505905  400.148834  37.911430  49.032551  384.516388  44.200638   \n",
       "4  78.485397  400.103546  37.932167  49.079586  384.530640  44.183495   \n",
       "\n",
       "          128  129           130  \n",
       "0  119.841316    0  1.309539e+09  \n",
       "1  119.831841    1  1.309539e+09  \n",
       "2  119.838036    2  1.309539e+09  \n",
       "3  119.834976    3  1.309539e+09  \n",
       "4  119.837440    4  1.309539e+09  \n",
       "\n",
       "[5 rows x 131 columns]"
      ]
     },
     "execution_count": 3,
     "metadata": {},
     "output_type": "execute_result"
    }
   ],
   "source": [
    "data_mocap.head()\n",
    "#print(data_mocap.shape)  #2799行131列"
   ]
  },
  {
   "cell_type": "code",
   "execution_count": 4,
   "metadata": {},
   "outputs": [],
   "source": [
    "#座標値列の列名作成する\n",
    "p0 = ['x','y','z']\n",
    "marker =[]\n",
    "p2 =[]\n",
    "for a in range(1,44):       #Mocapマーカー数:43個\n",
    "    p1='m'+ str(a)\n",
    "    for b in p0:\n",
    "        p2 = p1 + b\n",
    "        marker.append(p2)\n",
    "    \n",
    "#marker"
   ]
  },
  {
   "cell_type": "code",
   "execution_count": 5,
   "metadata": {
    "scrolled": true
   },
   "outputs": [
    {
     "data": {
      "text/plain": [
       "1309539264.1056151"
      ]
     },
     "execution_count": 5,
     "metadata": {},
     "output_type": "execute_result"
    }
   ],
   "source": [
    "#座標値列の列名変更\n",
    "data_mocap=data_mocap.rename(columns={data_mocap.columns[a]:marker[a] for a in range(129)} )\n",
    "#座標値列以外の列名変更\n",
    "data_mocap=data_mocap.rename(columns={129:'FrameNumber',130:'TimeStamp'})\n",
    "data_mocap['TimeStamp'][0]"
   ]
  },
  {
   "cell_type": "code",
   "execution_count": 6,
   "metadata": {
    "scrolled": true
   },
   "outputs": [
    {
     "data": {
      "text/plain": [
       "1309539264.1056151"
      ]
     },
     "execution_count": 6,
     "metadata": {},
     "output_type": "execute_result"
    }
   ],
   "source": [
    "#mocapの左手首のデータを取得\n",
    "mc_lw = data_mocap[['m16x','m16y','m16z','TimeStamp']]\n",
    "#mc_lw = data_mocap[['m30x','m30y','m30z','TimeStamp']]\n",
    "mc_lw.head()\n",
    "mc_lw['TimeStamp'][0]"
   ]
  },
  {
   "cell_type": "code",
   "execution_count": 7,
   "metadata": {},
   "outputs": [
    {
     "data": {
      "text/plain": [
       "Text(0.5,1,'MotionCapture')"
      ]
     },
     "execution_count": 7,
     "metadata": {},
     "output_type": "execute_result"
    },
    {
     "data": {
      "image/png": "[encoded data removed]",
      "text/plain": [
       "<Figure size 1152x432 with 1 Axes>"
      ]
     },
     "metadata": {
      "needs_background": "light"
     },
     "output_type": "display_data"
    }
   ],
   "source": [
    "#mocapグラフの生成する(brfore fix)\n",
    "mcx = mc_lw[['TimeStamp']]\n",
    "mcy1 = mc_lw[['m16x']]\n",
    "mcy2 = mc_lw[['m16y']]\n",
    "mcy3 = mc_lw[['m16z']]\n",
    "\n",
    "#mcy1 = mc_lw[['m30x']]\n",
    "#mcy2 = mc_lw[['m30y']]\n",
    "#mcy3 = mc_lw[['m30z']]\n",
    "\n",
    "rcParams['figure.figsize'] = 16,6\n",
    "plt.plot(mcx,mcy1,label = \"x\",color=\"red\")\n",
    "plt.plot(mcx,mcy2,label = \"y\",color=\"blue\")\n",
    "plt.plot(mcx,mcy3,label = \"z\",color=\"green\")\n",
    "plt.legend()\n",
    "\n",
    "plt.xlabel(\"time stamp [s]\")\n",
    "plt.ylabel(\"position[mm]\")\n",
    "plt.title('MotionCapture')"
   ]
  },
  {
   "cell_type": "code",
   "execution_count": 8,
   "metadata": {},
   "outputs": [],
   "source": [
    "#0値を補正(median ver)\n",
    "#for  c  in  ['m17x','m17y','m17z']:\n",
    "   # col = mc_lw[c]  #'m17x'列から1列ずつ見る\n",
    "   # for r in range(3,len(data_mocap)):  #1行ずつ見る\n",
    "      #  if col[r] == 0.0:       #0値が見つかれば...\n",
    "        #    mc_lw.iloc[r][c] = median([col[r-1],col[r-2],col[r-3]])           #前3つの中間値を代入\n",
    "#mc_lw_clean = mc_lw"
   ]
  },
  {
   "cell_type": "code",
   "execution_count": 9,
   "metadata": {},
   "outputs": [],
   "source": [
    "#0値を補正(0.0 skip ver)\n",
    "#for  c  in  ['m17x','m17y','m17z']:\n",
    "   # col = mc_lw[c]  #'m17x'列から1列ずつ見る\n",
    "    #for r in range(len(data_mocap)):  #1行ずつ見る\n",
    "      #  if col[r] == 0.0:       #0値が見つかれば\n",
    "        #    mc_lw.iloc[r][c] = 'NaN' #'NaN'を代入\n",
    "#mc_lw_clean = mc_lw.dropna(axis = 0, how = 'any')  #'NaNを含む行を全て削除"
   ]
  },
  {
   "cell_type": "code",
   "execution_count": 10,
   "metadata": {},
   "outputs": [],
   "source": [
    "#fix NaN\n",
    "for  c  in  ['m16x','m16y','m16z']:\n",
    "#for  c  in  ['m30x','m30y','m30z']:\n",
    "    col = mc_lw[c]  #'X'列から1列ずつ見る\n",
    "    for r in range(len(mc_lw)):  #1行ずつ見る\n",
    "        if col[r] == 0.0:       #0値が見つかれば\n",
    "            mc_lw.iloc[r][c] = 'NaN' #'NaN'を代入\n",
    "mc_lw_clean = mc_lw.interpolate()\n",
    "#mc_lw_clean = mc_lw.fillna(0)"
   ]
  },
  {
   "cell_type": "code",
   "execution_count": 11,
   "metadata": {},
   "outputs": [
    {
     "data": {
      "text/html": [
       "<div>\n",
       "<style scoped>\n",
       "    .dataframe tbody tr th:only-of-type {\n",
       "        vertical-align: middle;\n",
       "    }\n",
       "\n",
       "    .dataframe tbody tr th {\n",
       "        vertical-align: top;\n",
       "    }\n",
       "\n",
       "    .dataframe thead th {\n",
       "        text-align: right;\n",
       "    }\n",
       "</style>\n",
       "<table border=\"1\" class=\"dataframe\">\n",
       "  <thead>\n",
       "    <tr style=\"text-align: right;\">\n",
       "      <th></th>\n",
       "      <th>m16x</th>\n",
       "      <th>m16y</th>\n",
       "      <th>m16z</th>\n",
       "      <th>TimeStamp</th>\n",
       "    </tr>\n",
       "  </thead>\n",
       "  <tbody>\n",
       "    <tr>\n",
       "      <th>0</th>\n",
       "      <td>798.197815</td>\n",
       "      <td>778.936157</td>\n",
       "      <td>214.335144</td>\n",
       "      <td>1.309539e+09</td>\n",
       "    </tr>\n",
       "    <tr>\n",
       "      <th>1</th>\n",
       "      <td>798.222839</td>\n",
       "      <td>778.997620</td>\n",
       "      <td>214.349640</td>\n",
       "      <td>1.309539e+09</td>\n",
       "    </tr>\n",
       "    <tr>\n",
       "      <th>2</th>\n",
       "      <td>798.241089</td>\n",
       "      <td>779.158020</td>\n",
       "      <td>214.402817</td>\n",
       "      <td>1.309539e+09</td>\n",
       "    </tr>\n",
       "    <tr>\n",
       "      <th>3</th>\n",
       "      <td>798.249939</td>\n",
       "      <td>779.197998</td>\n",
       "      <td>214.397186</td>\n",
       "      <td>1.309539e+09</td>\n",
       "    </tr>\n",
       "    <tr>\n",
       "      <th>4</th>\n",
       "      <td>798.375610</td>\n",
       "      <td>779.458313</td>\n",
       "      <td>214.421616</td>\n",
       "      <td>1.309539e+09</td>\n",
       "    </tr>\n",
       "  </tbody>\n",
       "</table>\n",
       "</div>"
      ],
      "text/plain": [
       "         m16x        m16y        m16z     TimeStamp\n",
       "0  798.197815  778.936157  214.335144  1.309539e+09\n",
       "1  798.222839  778.997620  214.349640  1.309539e+09\n",
       "2  798.241089  779.158020  214.402817  1.309539e+09\n",
       "3  798.249939  779.197998  214.397186  1.309539e+09\n",
       "4  798.375610  779.458313  214.421616  1.309539e+09"
      ]
     },
     "execution_count": 11,
     "metadata": {},
     "output_type": "execute_result"
    }
   ],
   "source": [
    "mc_lw_clean.head()"
   ]
  },
  {
   "cell_type": "code",
   "execution_count": 12,
   "metadata": {},
   "outputs": [],
   "source": [
    "#mc_lw_clean.shape #2799行4列\n",
    "#mc_lw_clean.describe()"
   ]
  },
  {
   "cell_type": "code",
   "execution_count": 13,
   "metadata": {
    "scrolled": false
   },
   "outputs": [
    {
     "data": {
      "text/plain": [
       "Text(0.5,1,'MotionCapture(after fix)')"
      ]
     },
     "execution_count": 13,
     "metadata": {},
     "output_type": "execute_result"
    },
    {
     "data": {
      "image/png": "[encoded data removed]",
      "text/plain": [
       "<Figure size 1152x432 with 1 Axes>"
      ]
     },
     "metadata": {
      "needs_background": "light"
     },
     "output_type": "display_data"
    }
   ],
   "source": [
    "#mocapグラフの生成する(after fix)\n",
    "mcx = mc_lw_clean[['TimeStamp']]\n",
    "mcy1 = mc_lw_clean[['m16x']]\n",
    "mcy2 = mc_lw_clean[['m16y']]\n",
    "mcy3 = mc_lw_clean[['m16z']]\n",
    "#mcy1 = mc_lw_clean[['m30x']]\n",
    "#mcy2 = mc_lw_clean[['m30y']]\n",
    "#mcy3 = mc_lw_clean[['m30z']]\n",
    "\n",
    "rcParams['figure.figsize'] = 16,6\n",
    "plt.plot(mcx,mcy1,label = \"x\",color=\"red\")\n",
    "plt.plot(mcx,mcy2,label = \"y\",color=\"blue\")\n",
    "plt.plot(mcx,mcy3,label = \"z\",color=\"green\")\n",
    "plt.legend()\n",
    "\n",
    "plt.xlabel(\"time stamp [s]\")\n",
    "plt.ylabel(\"position[mm]\")\n",
    "plt.title('MotionCapture(after fix)')"
   ]
  },
  {
   "cell_type": "code",
   "execution_count": 14,
   "metadata": {
    "scrolled": true
   },
   "outputs": [
    {
     "name": "stdout",
     "output_type": "stream",
     "text": [
      "2799\n"
     ]
    }
   ],
   "source": [
    "print(len(mc_lw_clean))\n",
    "#print(480//30)\n",
    "#print(len(mc_lw_clean)//16)\n",
    "#print(len(mc_lw_clean)%16)"
   ]
  },
  {
   "cell_type": "code",
   "execution_count": 15,
   "metadata": {},
   "outputs": [
    {
     "data": {
      "text/plain": [
       "(2799, 4)"
      ]
     },
     "execution_count": 15,
     "metadata": {},
     "output_type": "execute_result"
    }
   ],
   "source": [
    "mc_lw_clean.shape"
   ]
  },
  {
   "cell_type": "code",
   "execution_count": 16,
   "metadata": {},
   "outputs": [
    {
     "data": {
      "text/html": [
       "<div>\n",
       "<style scoped>\n",
       "    .dataframe tbody tr th:only-of-type {\n",
       "        vertical-align: middle;\n",
       "    }\n",
       "\n",
       "    .dataframe tbody tr th {\n",
       "        vertical-align: top;\n",
       "    }\n",
       "\n",
       "    .dataframe thead th {\n",
       "        text-align: right;\n",
       "    }\n",
       "</style>\n",
       "<table border=\"1\" class=\"dataframe\">\n",
       "  <thead>\n",
       "    <tr style=\"text-align: right;\">\n",
       "      <th></th>\n",
       "      <th>TimeStamp</th>\n",
       "      <th>m16x</th>\n",
       "      <th>m16y</th>\n",
       "      <th>m16z</th>\n",
       "    </tr>\n",
       "  </thead>\n",
       "  <tbody>\n",
       "    <tr>\n",
       "      <th>0</th>\n",
       "      <td>1.309539e+09</td>\n",
       "      <td>798.374878</td>\n",
       "      <td>779.600281</td>\n",
       "      <td>214.409561</td>\n",
       "    </tr>\n",
       "    <tr>\n",
       "      <th>1</th>\n",
       "      <td>1.309539e+09</td>\n",
       "      <td>798.472168</td>\n",
       "      <td>780.506226</td>\n",
       "      <td>214.144196</td>\n",
       "    </tr>\n",
       "    <tr>\n",
       "      <th>2</th>\n",
       "      <td>1.309539e+09</td>\n",
       "      <td>798.951660</td>\n",
       "      <td>781.888672</td>\n",
       "      <td>213.517776</td>\n",
       "    </tr>\n",
       "    <tr>\n",
       "      <th>3</th>\n",
       "      <td>1.309539e+09</td>\n",
       "      <td>799.274841</td>\n",
       "      <td>783.001465</td>\n",
       "      <td>212.490158</td>\n",
       "    </tr>\n",
       "    <tr>\n",
       "      <th>4</th>\n",
       "      <td>1.309539e+09</td>\n",
       "      <td>799.553772</td>\n",
       "      <td>783.736816</td>\n",
       "      <td>210.927185</td>\n",
       "    </tr>\n",
       "  </tbody>\n",
       "</table>\n",
       "</div>"
      ],
      "text/plain": [
       "      TimeStamp        m16x        m16y        m16z\n",
       "0  1.309539e+09  798.374878  779.600281  214.409561\n",
       "1  1.309539e+09  798.472168  780.506226  214.144196\n",
       "2  1.309539e+09  798.951660  781.888672  213.517776\n",
       "3  1.309539e+09  799.274841  783.001465  212.490158\n",
       "4  1.309539e+09  799.553772  783.736816  210.927185"
      ]
     },
     "execution_count": 16,
     "metadata": {},
     "output_type": "execute_result"
    }
   ],
   "source": [
    "#dawn sampling (avg)\n",
    "#初期値を設定\n",
    "i = 0\n",
    "mc_lw_ds = pd.DataFrame()\n",
    "#処理\n",
    "while  i < (len(mc_lw_clean)//12)*12:\n",
    "    mc_lw_ds= mc_lw_ds.append(mc_lw_clean.iloc[i+6,0:4],ignore_index=True)\n",
    "    i+=12\n",
    "    \n",
    "mc_lw_ds= mc_lw_ds.append(mc_lw_clean.iloc[i:,0:4].median(),ignore_index=True)\n",
    "mc_lw_ds.head()"
   ]
  },
  {
   "cell_type": "code",
   "execution_count": 17,
   "metadata": {},
   "outputs": [
    {
     "data": {
      "text/plain": [
       "(234, 4)"
      ]
     },
     "execution_count": 17,
     "metadata": {},
     "output_type": "execute_result"
    }
   ],
   "source": [
    "mc_lw_ds.shape"
   ]
  },
  {
   "cell_type": "code",
   "execution_count": 18,
   "metadata": {},
   "outputs": [],
   "source": [
    "#dawn sampling (mediam)\n",
    "#初期値を設定\n",
    "#i = 0\n",
    "#mc_lw_ds = pd.DataFrame()\n",
    "#処理\n",
    "#while  i < (len(mc_lw_clean)//16)*16:\n",
    "   # mc_lw_ds= mc_lw_ds.append(mc_lw_clean.iloc[i : i+16,0:4].median(),ignore_index=True)\n",
    "    #i+=16\n",
    "    \n",
    "#mc_lw_ds= mc_lw_ds.append(mc_lw_clean.iloc[i : i+15,0:4].median(),ignore_index=True)\n",
    "\n",
    "#mc_lw_ds"
   ]
  },
  {
   "cell_type": "code",
   "execution_count": 19,
   "metadata": {
    "scrolled": false
   },
   "outputs": [
    {
     "data": {
      "text/plain": [
       "Text(0.5,1,'MotionCapture[after dawn sampling]')"
      ]
     },
     "execution_count": 19,
     "metadata": {},
     "output_type": "execute_result"
    },
    {
     "data": {
      "image/png": "[encoded data removed]",
      "text/plain": [
       "<Figure size 1152x432 with 1 Axes>"
      ]
     },
     "metadata": {
      "needs_background": "light"
     },
     "output_type": "display_data"
    }
   ],
   "source": [
    "#mocapグラフの生成する(after dawn sampling)\n",
    "mcx = mc_lw_ds[['TimeStamp']]\n",
    "mcy1 = mc_lw_ds[['m16x']]\n",
    "mcy2 = mc_lw_ds[['m16y']]\n",
    "mcy3 = mc_lw_ds[['m16z']]\n",
    "#mcy1 = mc_lw_ds[['m30x']]\n",
    "#mcy2 = mc_lw_ds[['m30y']]\n",
    "#mcy3 = mc_lw_ds[['m30z']]\n",
    "\n",
    "rcParams['figure.figsize'] = 16,6\n",
    "plt.plot(mcx,mcy1,label = \"x\",color=\"red\")\n",
    "plt.plot(mcx,mcy2,label = \"y\",color=\"blue\")\n",
    "plt.plot(mcx,mcy3,label = \"z\",color=\"green\")\n",
    "plt.legend()\n",
    "\n",
    "plt.xlabel(\"time stamp [s]\")\n",
    "plt.ylabel(\"position[mm]\")\n",
    "plt.title('MotionCapture[after dawn sampling]')"
   ]
  },
  {
   "cell_type": "code",
   "execution_count": 20,
   "metadata": {},
   "outputs": [],
   "source": [
    "#時間差を求める\n",
    "#time_diffs = []\n",
    "#for i in range(len(mc_lw_ds)-1):\n",
    "   # time_diff =  mc_lw_ds.iloc[i+1]['TimeStamp'] - mc_lw_ds.iloc[i]['TimeStamp']\n",
    "    #time_diffs.append(time_diff)\n",
    "\n",
    "\n",
    "\n",
    "#座標差を求める関数を定義\n",
    "#def pos_diff(col):\n",
    "   # diffs = []\n",
    "    #for i in range(len(mc_lw_ds)-1):\n",
    "      #  diff = mc_lw_ds.iloc[i+1][col]-mc_lw_ds.iloc[i][col]\n",
    "        #diffs.append(diff)\n",
    "    #return diffs\n",
    "\n",
    "#x座標値差[mm/s]\n",
    "#x_diffs =pos_diff('m16x')\n",
    "#y座標値差[mm/s]\n",
    "#y_diffs =pos_diff('m16y')\n",
    "#z座標値差[mm/s]\n",
    "#z_diffs =pos_diff('m16z')\n",
    "\n",
    "#速度計算をする関数 velocity\n",
    "#def cal_v(pos_diff): \n",
    "   # vs = []\n",
    "    #for i in range(len(time_diffs)):\n",
    "      #  v = pos_diff[i]/time_diffs[i]\n",
    "        #vs.append(v)\n",
    "    #return vs\n",
    "\n",
    "\n",
    "#速度計算 \n",
    "#x\n",
    "#x_v = cal_v(x_diffs)\n",
    "#y\n",
    "#y_v = cal_v(y_diffs)\n",
    "#z\n",
    "#z_v = cal_v(z_diffs)\n",
    "#mc_lw_v= pd.DataFrame({\"xv\":x_v,\"yv\":y_v,\"zv\":z_v,\"TimeStamp\":mc_lw_ds['TimeStamp'][1:]})"
   ]
  },
  {
   "cell_type": "code",
   "execution_count": 21,
   "metadata": {},
   "outputs": [],
   "source": [
    "def cal_va(data):\n",
    "    diffs = pd.DataFrame()\n",
    "    for i in range(len(data)-1):\n",
    "        diff = data.iloc[i+1]-data.iloc[i]\n",
    "        diffs = diffs.append(diff,ignore_index=True)\n",
    "        \n",
    "    vs = pd.DataFrame()\n",
    "    for i in range(len(diffs)):\n",
    "        v = diffs.iloc[i][1:]/diffs.iloc[i][\"TimeStamp\"]\n",
    "        vs = vs.append(v,ignore_index=True)\n",
    "    return vs"
   ]
  },
  {
   "cell_type": "code",
   "execution_count": 22,
   "metadata": {},
   "outputs": [
    {
     "name": "stdout",
     "output_type": "stream",
     "text": [
      "(234, 4)\n",
      "(233, 3)\n",
      "      TimeStamp        m16x        m16y        m16z\n",
      "0  1.309539e+09  798.374878  779.600281  214.409561\n",
      "1  1.309539e+09  798.472168  780.506226  214.144196\n",
      "2  1.309539e+09  798.951660  781.888672  213.517776\n",
      "3  1.309539e+09  799.274841  783.001465  212.490158\n",
      "4  1.309539e+09  799.553772  783.736816  210.927185\n",
      "        m16x       m16y       m16z\n",
      "0   3.891734  36.239044 -10.614964\n",
      "1  19.182168  55.305013 -25.060050\n",
      "2  12.928177  44.514946 -41.107699\n",
      "3  11.157729  29.415330 -62.521663\n",
      "4  10.847946   2.873768 -80.191372\n"
     ]
    }
   ],
   "source": [
    "print(mc_lw_ds.shape)\n",
    "print(cal_va(mc_lw_ds).shape)\n",
    "print(mc_lw_ds.head())\n",
    "print(cal_va(mc_lw_ds).head())\n"
   ]
  },
  {
   "cell_type": "code",
   "execution_count": 23,
   "metadata": {
    "scrolled": true
   },
   "outputs": [],
   "source": [
    "#(mc_lw_ds.iloc[1][ \"m16y\" ]-mc_lw_ds.iloc[0][\"m16y\"])/(mc_lw_ds.iloc[1][ \"TimeStamp\"]-mc_lw_ds.iloc[0][ \"TimeStamp\"])"
   ]
  },
  {
   "cell_type": "code",
   "execution_count": null,
   "metadata": {},
   "outputs": [],
   "source": []
  },
  {
   "cell_type": "code",
   "execution_count": 24,
   "metadata": {},
   "outputs": [],
   "source": [
    "#x座標 v[mm/s]\n",
    "x_v = cal_va(mc_lw_ds).iloc[:,0]\n",
    "#y座標 v[mm/s]\n",
    "y_v = cal_va(mc_lw_ds).iloc[:,1]\n",
    "#z座標 v[mm/s]\n",
    "z_v = cal_va(mc_lw_ds).iloc[:,2]\n",
    "\n",
    "#x座標 v[mm/s]\n",
    "#x_v = cal_va(mc_lw).iloc[:,0]\n",
    "#y座標 v[mm/s]\n",
    "#y_v = cal_va(mc_lw).iloc[:,1]\n",
    "#z座標 v[mm/s]\n",
    "#z_v = cal_va(mc_lw).iloc[:,2]"
   ]
  },
  {
   "cell_type": "code",
   "execution_count": 25,
   "metadata": {},
   "outputs": [
    {
     "name": "stdout",
     "output_type": "stream",
     "text": [
      "1309539264.1431131\n",
      "1309539264.16811\n",
      "~~~~~~~~\n",
      "1309539264.118114\n",
      "1309539264.1431131\n",
      "1309539264.16811\n"
     ]
    }
   ],
   "source": [
    "print(mc_lw_ds['TimeStamp'].shift(periods=-1)[0])\n",
    "print(mc_lw_ds['TimeStamp'].shift(periods=-1)[1])\n",
    "print(\"~~~~~~~~\")\n",
    "print(mc_lw_ds['TimeStamp'][0])\n",
    "print(mc_lw_ds['TimeStamp'][1])\n",
    "print(mc_lw_ds['TimeStamp'][2])"
   ]
  },
  {
   "cell_type": "code",
   "execution_count": 26,
   "metadata": {
    "scrolled": false
   },
   "outputs": [
    {
     "data": {
      "text/html": [
       "<div>\n",
       "<style scoped>\n",
       "    .dataframe tbody tr th:only-of-type {\n",
       "        vertical-align: middle;\n",
       "    }\n",
       "\n",
       "    .dataframe tbody tr th {\n",
       "        vertical-align: top;\n",
       "    }\n",
       "\n",
       "    .dataframe thead th {\n",
       "        text-align: right;\n",
       "    }\n",
       "</style>\n",
       "<table border=\"1\" class=\"dataframe\">\n",
       "  <thead>\n",
       "    <tr style=\"text-align: right;\">\n",
       "      <th></th>\n",
       "      <th>xv</th>\n",
       "      <th>yv</th>\n",
       "      <th>zv</th>\n",
       "      <th>TimeStamp</th>\n",
       "    </tr>\n",
       "  </thead>\n",
       "  <tbody>\n",
       "    <tr>\n",
       "      <th>228</th>\n",
       "      <td>-86.039753</td>\n",
       "      <td>-7.405391</td>\n",
       "      <td>443.813384</td>\n",
       "      <td>1.309539e+09</td>\n",
       "    </tr>\n",
       "    <tr>\n",
       "      <th>229</th>\n",
       "      <td>-113.726841</td>\n",
       "      <td>-25.218509</td>\n",
       "      <td>571.091388</td>\n",
       "      <td>1.309539e+09</td>\n",
       "    </tr>\n",
       "    <tr>\n",
       "      <th>230</th>\n",
       "      <td>-80.467133</td>\n",
       "      <td>44.839787</td>\n",
       "      <td>590.086948</td>\n",
       "      <td>1.309539e+09</td>\n",
       "    </tr>\n",
       "    <tr>\n",
       "      <th>231</th>\n",
       "      <td>-80.870048</td>\n",
       "      <td>45.064308</td>\n",
       "      <td>593.041632</td>\n",
       "      <td>1.309539e+09</td>\n",
       "    </tr>\n",
       "    <tr>\n",
       "      <th>232</th>\n",
       "      <td>-108.883125</td>\n",
       "      <td>32.453608</td>\n",
       "      <td>580.261370</td>\n",
       "      <td>1.309539e+09</td>\n",
       "    </tr>\n",
       "  </tbody>\n",
       "</table>\n",
       "</div>"
      ],
      "text/plain": [
       "             xv         yv          zv     TimeStamp\n",
       "228  -86.039753  -7.405391  443.813384  1.309539e+09\n",
       "229 -113.726841 -25.218509  571.091388  1.309539e+09\n",
       "230  -80.467133  44.839787  590.086948  1.309539e+09\n",
       "231  -80.870048  45.064308  593.041632  1.309539e+09\n",
       "232 -108.883125  32.453608  580.261370  1.309539e+09"
      ]
     },
     "execution_count": 26,
     "metadata": {},
     "output_type": "execute_result"
    }
   ],
   "source": [
    "times = mc_lw_ds['TimeStamp'].shift(periods=-1)\n",
    "#times = mc_lw['TimeStamp'].shift(periods=-1)\n",
    "\n",
    "mc_lw_v = pd.DataFrame({\"xv\":x_v,\"yv\":y_v,\"zv\":z_v,\"TimeStamp\":times})\n",
    "mc_lw_v = mc_lw_v.dropna()\n",
    "mc_lw_v.tail()\n",
    "#times.head()\n",
    "#print(mc_lw_v.shape)"
   ]
  },
  {
   "cell_type": "code",
   "execution_count": null,
   "metadata": {},
   "outputs": [],
   "source": []
  },
  {
   "cell_type": "code",
   "execution_count": 27,
   "metadata": {
    "scrolled": false
   },
   "outputs": [],
   "source": [
    "#mc_v_x = mc_lw_v[['TimeStamp']]\n",
    "#mc_v_y1 = mc_lw_v[['xv']]\n",
    "#mc_v_y2 = mc_lw_v[['yv']]\n",
    "#mc_v_y3 = mc_lw_v[['zv']]\n",
    "\n",
    "#rcParams['figure.figsize'] = 16,10\n",
    "#plt.plot(mc_v_x,mc_v_y1,label = \"x\",color=\"red\")\n",
    "#plt.plot(mc_v_x,mc_v_y2,label = \"y\",color=\"blue\")\n",
    "#plt.plot(mc_v_x,mc_v_y3,label = \"z\",color=\"green\")\n",
    "#plt.legend()\n",
    "\n",
    "#plt.xlabel(\"time stamp [s]\")\n",
    "#plt.ylabel(\"velocity [mm/s]\")\n",
    "#plt.plot()"
   ]
  },
  {
   "cell_type": "code",
   "execution_count": 28,
   "metadata": {},
   "outputs": [],
   "source": [
    "#時間差を求める\n",
    "#time_diffs2 = []\n",
    "#for i in range(len(mc_lw_v)-1):\n",
    "   # time_diff =  mc_lw_v.iloc[i+1]['TimeStamp'] - mc_lw_v.iloc[i]['TimeStamp']\n",
    "    #time_diffs2.append(time_diff)\n",
    "#len(time_diffs2)"
   ]
  },
  {
   "cell_type": "code",
   "execution_count": 29,
   "metadata": {},
   "outputs": [],
   "source": [
    "#速度差を求める関数を定義\n",
    "#def v_diff(col):\n",
    "   # diffs = []\n",
    "    #for i in range(len(mc_lw_v)-1):\n",
    "      #  diff = mc_lw_v.iloc[i+1][col]-mc_lw_v.iloc[i][col]\n",
    "        #diffs.append(diff)\n",
    "    #return diffs"
   ]
  },
  {
   "cell_type": "code",
   "execution_count": 30,
   "metadata": {},
   "outputs": [],
   "source": [
    "#x座標値差[mm/s]\n",
    "#xv_diffs =v_diff('xv')\n",
    "#y座標値差[mm/s]\n",
    "#yv_diffs =v_diff('yv')\n",
    "#z座標値差[mm/s]\n",
    "#zv_diffs =v_diff('zv')"
   ]
  },
  {
   "cell_type": "code",
   "execution_count": 31,
   "metadata": {},
   "outputs": [],
   "source": [
    "#print(len(xv_diffs),',',len(yv_diffs),',',len(zv_diffs))"
   ]
  },
  {
   "cell_type": "code",
   "execution_count": 32,
   "metadata": {},
   "outputs": [],
   "source": [
    "#加速度計算をする関数 velocity\n",
    "#def cal_a(v_diff): \n",
    "   # vs = []\n",
    "    #for i in range(len(time_diffs2)):\n",
    "      #  v = v_diff[i]/time_diffs2[i]\n",
    "        #vs.append(v)\n",
    "    #return vs"
   ]
  },
  {
   "cell_type": "code",
   "execution_count": 33,
   "metadata": {},
   "outputs": [],
   "source": [
    "#加速度計算 acceleration\n",
    "#x\n",
    "#x_a = cal_a(xv_diffs)\n",
    "#y\n",
    "#y_a = cal_a(yv_diffs)\n",
    "#z\n",
    "#z_a = cal_a(zv_diffs)\n",
    "#mc_lw_a = pd.DataFrame({\"xa\":x_a,\"ya\":y_a,\"za\":z_a,\"TimeStamp\":mc_lw_v['TimeStamp'][1:]})"
   ]
  },
  {
   "cell_type": "code",
   "execution_count": null,
   "metadata": {},
   "outputs": [],
   "source": [
    "#加速度計算 acceleration\n",
    "#x\n",
    "x_a = cal_va(mc_lw_v).iloc[:,0]\n",
    "#y\n",
    "y_a = cal_va(mc_lw_v).iloc[:,1]\n",
    "#z\n",
    "z_a = cal_va(mc_lw_v).iloc[:,2]"
   ]
  },
  {
   "cell_type": "code",
   "execution_count": null,
   "metadata": {
    "scrolled": true
   },
   "outputs": [],
   "source": [
    "cal_va(mc_lw_v).head()"
   ]
  },
  {
   "cell_type": "code",
   "execution_count": null,
   "metadata": {
    "scrolled": false
   },
   "outputs": [],
   "source": [
    "times = mc_lw_v['TimeStamp'].shift(periods=-1)\n",
    "mc_lw_a = pd.DataFrame({\"xa\":x_a,\"ya\":y_a,\"za\":z_a,\"TimeStamp\":times})\n",
    "mc_lw_a = mc_lw_a.dropna()\n",
    "mc_lw_a.head()"
   ]
  },
  {
   "cell_type": "code",
   "execution_count": null,
   "metadata": {},
   "outputs": [],
   "source": [
    "mc_lw_a.shape\n",
    "#print(mc_lw_v['TimeStamp'].shift(periods=-1)[0])\n",
    "#print(mc_lw_v['TimeStamp'].shift(periods=-1)[1])\n",
    "#print(\"~~~~~~~~\")\n",
    "#print(mc_lw_v['TimeStamp'][0])\n",
    "#print(mc_lw_v['TimeStamp'][1])\n",
    "#print(mc_lw_v['TimeStamp'][2])"
   ]
  },
  {
   "cell_type": "code",
   "execution_count": null,
   "metadata": {},
   "outputs": [],
   "source": [
    "#print(mc_lw_a.iloc[0][ \"TimeStamp\"])"
   ]
  },
  {
   "cell_type": "code",
   "execution_count": null,
   "metadata": {},
   "outputs": [],
   "source": [
    "#(mc_lw_v.iloc[1][ \"xv\" ]-mc_lw_v.iloc[0][\"xv\"])/(mc_lw_v.iloc[1][ \"TimeStamp\"]-mc_lw_v.iloc[0][ \"TimeStamp\"])"
   ]
  },
  {
   "cell_type": "code",
   "execution_count": null,
   "metadata": {},
   "outputs": [],
   "source": [
    "#print(mc_lw_a.iloc[0][ \"xa\"]*0.001/9.80665)"
   ]
  },
  {
   "cell_type": "code",
   "execution_count": null,
   "metadata": {},
   "outputs": [],
   "source": [
    "def lim2g(data):\n",
    "    for  c  in  data.columns:\n",
    "        if c != \"TimeStamp\":\n",
    "            col = data[c]  #1列ずつ見る\n",
    "            for r in range(len(data)):  #1行ずつ見る\n",
    "                if col[r] > 2.0:       #2.0より大きい値が見つかれば\n",
    "                    data.iloc[r][c] = 2.0 #2.0を代入\n",
    "                elif col[r] < -2.0:       #-2.0より小さい値が見つかれば\n",
    "                    data.iloc[r][c] = -2.0 #-2.0を代入\n",
    "    return data"
   ]
  },
  {
   "cell_type": "code",
   "execution_count": null,
   "metadata": {},
   "outputs": [],
   "source": []
  },
  {
   "cell_type": "code",
   "execution_count": null,
   "metadata": {
    "scrolled": true
   },
   "outputs": [],
   "source": [
    "#単位を[G]に変換  [mm/s^2] →  [G]\n",
    "accel = mc_lw_a[['xa','ya','za']]*0.001/9.80665\n",
    "accel = pd.concat([accel,mc_lw_a[\"TimeStamp\"]], axis=1)\n",
    "#accel = accel.rolling(window= 10, center=False).median()\n",
    "#accel = accel.dropna()\n",
    "v_accel = np.clip(accel.loc[:,accel.columns != \"TimeStamp\"], -2.0, 2.0)\n",
    "#accel = lim2g(accel)\n",
    "v_accel = pd.concat([v_accel,accel[\"TimeStamp\"]],axis=1)\n",
    "#accel = accel.reset_index(drop=True)\n",
    "v_accel"
   ]
  },
  {
   "cell_type": "code",
   "execution_count": null,
   "metadata": {},
   "outputs": [],
   "source": [
    "#accel.shape"
   ]
  },
  {
   "cell_type": "code",
   "execution_count": null,
   "metadata": {},
   "outputs": [],
   "source": []
  },
  {
   "cell_type": "code",
   "execution_count": null,
   "metadata": {},
   "outputs": [],
   "source": []
  },
  {
   "cell_type": "code",
   "execution_count": null,
   "metadata": {},
   "outputs": [],
   "source": []
  },
  {
   "cell_type": "code",
   "execution_count": null,
   "metadata": {},
   "outputs": [],
   "source": []
  },
  {
   "cell_type": "code",
   "execution_count": null,
   "metadata": {},
   "outputs": [],
   "source": [
    "mc_a_x = v_accel[['TimeStamp']]\n",
    "mc_a_y1 = v_accel[['xa']]\n",
    "mc_a_y2 = v_accel[['ya']]\n",
    "mc_a_y3 = v_accel[['za']]\n",
    "\n",
    "rcParams['figure.figsize'] = 10,6\n",
    "plt.plot(mc_a_x[:],mc_a_y1[:],label = \"x\",color = \"red\")\n",
    "plt.plot(mc_a_x[:],mc_a_y2[:],label=\"y\",color = \"blue\")\n",
    "plt.plot(mc_a_x[:],mc_a_y3[:],label=\"z\",color = 'green')\n",
    "plt.legend()\n",
    "\n",
    "plt.xlabel(\"time stamp [s]\")\n",
    "plt.ylabel(\"Acceleromerter X,Y,Z [G]\")\n",
    "plt.title(\"Accelerometer(after)\")"
   ]
  },
  {
   "cell_type": "code",
   "execution_count": null,
   "metadata": {},
   "outputs": [],
   "source": []
  },
  {
   "cell_type": "code",
   "execution_count": null,
   "metadata": {},
   "outputs": [],
   "source": []
  },
  {
   "cell_type": "code",
   "execution_count": null,
   "metadata": {},
   "outputs": [],
   "source": []
  },
  {
   "cell_type": "code",
   "execution_count": null,
   "metadata": {},
   "outputs": [],
   "source": []
  },
  {
   "cell_type": "code",
   "execution_count": null,
   "metadata": {},
   "outputs": [],
   "source": []
  },
  {
   "cell_type": "code",
   "execution_count": null,
   "metadata": {},
   "outputs": [],
   "source": []
  },
  {
   "cell_type": "code",
   "execution_count": null,
   "metadata": {
    "scrolled": false
   },
   "outputs": [],
   "source": [
    "mc_a_x = v_accel[['TimeStamp']]\n",
    "mc_a_y1 = v_accel[['xa']]\n",
    "mc_a_y2 = v_accel[['ya']]\n",
    "mc_a_y3 = v_accel[['za']]\n",
    "\n",
    "rcParams['figure.figsize'] = 10,6\n",
    "plt.plot(mc_a_x[:],mc_a_y1[:],label = \"x\")\n",
    "#plt.plot(acx[:],acy1[:],label=\"Accelerometer\",color=\"red\")\n",
    "plt.legend()\n",
    "\n",
    "plt.xlabel(\"time stamp [s]\")\n",
    "plt.ylabel(\"accel [G]\")\n",
    "plt.title(\"Acceleration   X\")\n",
    "plt.plot()"
   ]
  },
  {
   "cell_type": "code",
   "execution_count": null,
   "metadata": {
    "scrolled": false
   },
   "outputs": [],
   "source": [
    "rcParams['figure.figsize'] = 10,6\n",
    "plt.plot(mc_a_x[10:],mc_a_y2[10:],label = \"Motion Capture\",color=\"blue\")\n",
    "plt.plot(acx[10:],acy2[10:],label=\"Accelerometer\",color=\"red\")\n",
    "plt.legend()\n",
    "\n",
    "plt.xlabel(\"time stamp [s]\")\n",
    "plt.ylabel(\"accel [G]\")\n",
    "plt.title(\"Acceleration     Y \")\n",
    "plt.plot()"
   ]
  },
  {
   "cell_type": "code",
   "execution_count": null,
   "metadata": {
    "scrolled": false
   },
   "outputs": [],
   "source": [
    "rcParams['figure.figsize'] = 10,6\n",
    "plt.plot(mc_a_x[5:],mc_a_y3[5:],label = \"Motion Capture\",color=\"green\")\n",
    "plt.plot(acx[5:],acy3[5:],label=\"Accelerometer\",color=\"red\")\n",
    "plt.legend()\n",
    "\n",
    "plt.xlabel(\"time stamp [s]\")\n",
    "plt.ylabel(\"accel [G]\")\n",
    "plt.title(\"Acceleration     Z \")\n",
    "plt.plot()"
   ]
  },
  {
   "cell_type": "code",
   "execution_count": null,
   "metadata": {},
   "outputs": [],
   "source": [
    "virtual_acc = one_acc(v_accel)\n",
    "len(v_accel)"
   ]
  },
  {
   "cell_type": "code",
   "execution_count": null,
   "metadata": {},
   "outputs": [],
   "source": [
    "len(real_acc)"
   ]
  },
  {
   "cell_type": "code",
   "execution_count": null,
   "metadata": {
    "scrolled": true
   },
   "outputs": [],
   "source": [
    "#加速度グラフ生成\n",
    "acxv = virtual_acc[['TimeStamp']]\n",
    "\n",
    "acyv = virtual_acc[['acc']]\n",
    "\n",
    "rcParams['figure.figsize'] = 18,9\n",
    "#plt.plot(acx,acy,label=\"real\",color = \"red\")\n",
    "plt.scatter(acx,acy,label=\"real\",color = \"red\")\n",
    "#plt.plot(acxv,acyv,label=\"virtual\",color = \"blue\")\n",
    "plt.scatter(acxv,acyv,label=\"virtual\",color = \"blue\")\n",
    "\n",
    "\n",
    "plt.legend()\n",
    "\n",
    "plt.xlabel(\"time stamp [s]\")\n",
    "plt.ylabel(\"Acceleromerter X,Y,Z [G]\")\n",
    "plt.title(\"Accelerometer\")"
   ]
  },
  {
   "cell_type": "code",
   "execution_count": null,
   "metadata": {},
   "outputs": [],
   "source": []
  },
  {
   "cell_type": "code",
   "execution_count": null,
   "metadata": {},
   "outputs": [],
   "source": []
  },
  {
   "cell_type": "code",
   "execution_count": null,
   "metadata": {},
   "outputs": [],
   "source": [
    "def cross_correlation_fft(a, b, mode='valid'):\n",
    "    \"\"\"Cross correlation between two 1D signals. Similar to np.correlate, but\n",
    "    faster.\n",
    " \n",
    "    Parameters\n",
    "    ----------\n",
    "    a : np.array, shape(n)\n",
    "    b : np.array, shape(m)\n",
    "        If len(b) > len(a), a, b = b, a\n",
    " \n",
    "    Output\n",
    "    ------\n",
    "    r : np.array\n",
    "        Correlation coefficients. Shape depends on mode.\n",
    "    \"\"\"\n",
    "    from scipy import signal\n",
    "    a = np.asarray(a)\n",
    "    b = np.asarray(b)\n",
    "    if np.prod(a.ndim) > 1 or np.prod(b.ndim) > 1:\n",
    "        raise ValueError('Can only vectorize vectors')\n",
    "    if len(b) > len(a):\n",
    "        a, b = b, a\n",
    "    n = len(a)\n",
    "    # Pad vector\n",
    "    c = np.hstack((np.zeros(int(n/2)), b, np.zeros(int(n/2) + len(a) - len(b) + 1)))\n",
    "    # Convolution of reverse signal:\n",
    "    return signal.fftconvolve(c, a[::-1], mode=mode)"
   ]
  },
  {
   "cell_type": "code",
   "execution_count": null,
   "metadata": {},
   "outputs": [],
   "source": [
    "def align_signals(a, b):\n",
    "    \"\"\"Finds optimal delay to align two 1D signals\n",
    "    maximizes hstack((zeros(shift), b)) = a\n",
    " \n",
    "    Parameters\n",
    "    ----------\n",
    "    a : np.array, shape(n)\n",
    "    b : np.array, shape(m)\n",
    " \n",
    "    Output\n",
    "    ------\n",
    "    shift : int\n",
    "        Integer that maximizes hstack((zeros(shift), b)) - a = 0\n",
    "    \"\"\"\n",
    "    # check inputs\n",
    "    a = np.asarray(a)\n",
    "    b = np.asarray(b)\n",
    "    if np.prod(a.ndim) > 1 or np.prod(b.ndim) > 1:\n",
    "        raise ValueError('Can only vectorize vectors')\n",
    "    # longest first\n",
    "    sign = 1\n",
    "    if len(b) > len(a):\n",
    "        sign = -1\n",
    "        a, b = b, a\n",
    "    r = cross_correlation_fft(a, b)\n",
    "    shift = np.argmax(r) - len(a) + len(a) / 2\n",
    "    # deal with odd / even lengths (b doubles in size by cross_correlation_fft)\n",
    "    if len(a) % 2 and len(b) % 2:\n",
    "        shift += 1\n",
    "    if len(a) > len(b) and len(a) % 2 and not(len(b) % 2):\n",
    "        shift += 1\n",
    "    return sign * shift"
   ]
  },
  {
   "cell_type": "code",
   "execution_count": null,
   "metadata": {
    "scrolled": true
   },
   "outputs": [],
   "source": [
    "align_signals( v_accel['xa'],linear_acc['X'])"
   ]
  },
  {
   "cell_type": "code",
   "execution_count": null,
   "metadata": {},
   "outputs": [],
   "source": [
    "align_signals( v_accel['ya'],linear_acc['Y'])\n",
    "#align_signals( linear_acc['X'],v_accel['xa'])"
   ]
  },
  {
   "cell_type": "code",
   "execution_count": null,
   "metadata": {},
   "outputs": [],
   "source": [
    "align_signals( v_accel['za'],linear_acc['Z'])"
   ]
  },
  {
   "cell_type": "code",
   "execution_count": null,
   "metadata": {},
   "outputs": [],
   "source": [
    "#new_mcax = np.hstack((np.zeros(-16), mc_a_y1))\n",
    "#new_mcay = np.hstack((np.zeros(-3), mc_a_y1))\n",
    "#new_mcaz = np.hstack((np.zeros(-3), mc_a_y1))\n",
    "\n",
    "new_linear_accx = np.hstack((np.zeros(16), linear_acc['X']))\n",
    "new_linear_accy = np.hstack((np.zeros(3), linear_acc['Y']))\n",
    "new_linear_accz = np.hstack((np.zeros(3), linear_acc['Z']))"
   ]
  },
  {
   "cell_type": "code",
   "execution_count": null,
   "metadata": {},
   "outputs": [],
   "source": [
    "print(len(linear_acc['X']))\n",
    "print(len(mc_a_x))\n",
    "print(len(acx))\n",
    "print(len(new_linear_accx))"
   ]
  },
  {
   "cell_type": "code",
   "execution_count": null,
   "metadata": {},
   "outputs": [],
   "source": [
    "rcParams['figure.figsize'] = 10,6\n",
    "plt.plot(mc_a_x,mc_a_y1,label = \"x\")\n",
    "plt.plot(acx,new_linear_accx[:-16:1],label=\"Accelerometer\",color=\"red\")\n",
    "plt.scatter(mc_a_x,mc_a_y1,label = \"x\")\n",
    "plt.scatter(acx,new_linear_accx[:-16:1],label=\"Accelerometer\",color=\"red\")\n",
    "\n",
    "plt.legend()\n",
    "\n",
    "plt.xlabel(\"time stamp [s]\")\n",
    "plt.ylabel(\"accel [G]\")\n",
    "def highres(y,kind='cubic',res=100):\n",
    "    # interpolate onto higher resolution grid with res* more data points than original input\n",
    "    # from scipy import interpolate\n",
    "    y = np.array(y)\n",
    "    x = np.arange(0, y.shape[0])\n",
    "    f = interp1d(x, y,kind='cubic')\n",
    "    xnew = np.linspace(0, x.shape[0]-1, x.shape[0]*res)\n",
    "    ynew = f(xnew)\n",
    "    return xnew,ynewplt.title(\"Acceleration   X\")\n",
    "plt.plot()\n",
    "print(len(mc_a_y1))\n",
    "print(len(new_linear_accx[0:-16:1]))"
   ]
  },
  {
   "cell_type": "code",
   "execution_count": null,
   "metadata": {
    "scrolled": false
   },
   "outputs": [],
   "source": [
    "rcParams['figure.figsize'] = 10,6\n",
    "plt.plot(mc_a_x,mc_a_y2,label = \"y\")\n",
    "plt.plot(acx,new_linear_accy[:-3:1],label=\"Accelerometer\",color=\"red\")\n",
    "plt.scatter(mc_a_x,mc_a_y2,label = \"y\")\n",
    "plt.scatter(acx,new_linear_accy[:-3:1],label=\"Accelerometer\",color=\"red\")\n",
    "\n",
    "plt.legend()\n",
    "\n",
    "plt.xlabel(\"time stamp [s]\")\n",
    "plt.ylabel(\"accel [G]\")\n",
    "def highres(y,kind='cubic',res=100):\n",
    "    # interpolate onto higher resolution grid with res* more data points than original input\n",
    "    # from scipy import interpolate\n",
    "    y = np.array(y)\n",
    "    x = np.arange(0, y.shape[0])\n",
    "    f = interp1d(x, y,kind='cubic')\n",
    "    xnew = np.linspace(0, x.shape[0]-1, x.shape[0]*res)\n",
    "    ynew = f(xnew)\n",
    "    return xnew,ynewplt.title(\"Acceleration   Y\")\n",
    "plt.plot()"
   ]
  },
  {
   "cell_type": "code",
   "execution_count": null,
   "metadata": {
    "scrolled": true
   },
   "outputs": [],
   "source": []
  },
  {
   "cell_type": "code",
   "execution_count": null,
   "metadata": {},
   "outputs": [],
   "source": [
    "rcParams['figure.figsize'] = 10,6\n",
    "plt.plot(mc_a_x,mc_a_y3,label = \"z\")\n",
    "plt.plot(acx,new_linear_accz[0:-3:1],label=\"Accelerometer\",color=\"red\")\n",
    "plt.scatter(mc_a_x,mc_a_y3,label = \"z\")\n",
    "plt.scatter(acx,new_linear_accz[0:-3:1],label=\"Accelerometer\",color=\"red\")\n",
    "\n",
    "plt.legend()\n",
    "\n",
    "plt.xlabel(\"time stamp [s]\")\n",
    "plt.ylabel(\"accel [G]\")\n",
    "def highres(y,kind='cubic',res=100):\n",
    "    # interpolate onto higher resolution grid with res* more data points than original input\n",
    "    # from scipy import interpolate\n",
    "    y = np.array(y)\n",
    "    x = np.arange(0, y.shape[0])\n",
    "    f = interp1d(x, y,kind='cubic')\n",
    "    xnew = np.linspace(0, x.shape[0]-1, x.shape[0]*res)\n",
    "    ynew = f(xnew)\n",
    "    return xnew,ynewplt.title(\"Acceleration   Z\")\n",
    "plt.plot()"
   ]
  },
  {
   "cell_type": "code",
   "execution_count": null,
   "metadata": {},
   "outputs": [],
   "source": [
    "y1 = mc_a_y1[16:110]\n",
    "y1 = y1.reset_index(drop=True)\n",
    "np.array(y1)\n",
    "y1 = list(np.ravel(y1))\n",
    "x1 = new_linear_accx[:-16:1][16:110].tolist()\n",
    "\n",
    "y2 = mc_a_y2[10:110]\n",
    "np.array(y2)\n",
    "y2 = list(np.ravel(y2))\n",
    "x2 = new_linear_accy[:-3:1][10:110].tolist()\n",
    "\n",
    "y3 = mc_a_y3[10:110]\n",
    "np.array(y3)\n",
    "y3 = list(np.ravel(y3))\n",
    "x3 = new_linear_accz[:-3:1][10:110].tolist()"
   ]
  },
  {
   "cell_type": "code",
   "execution_count": null,
   "metadata": {},
   "outputs": [],
   "source": [
    "print(len(x1))\n",
    "print(len(y1))\n"
   ]
  },
  {
   "cell_type": "code",
   "execution_count": null,
   "metadata": {},
   "outputs": [],
   "source": [
    "#len(new_linear_accx[16::1][16:])\n",
    "print(np.corrcoef(x1, y1)[0, 1])\n",
    "print(np.corrcoef(x2, y2)[0, 1])\n",
    "print(np.corrcoef(x3, y3)[0, 1])"
   ]
  },
  {
   "cell_type": "code",
   "execution_count": null,
   "metadata": {},
   "outputs": [],
   "source": [
    "plt.scatter(x1, y1)\n",
    "#　フィッティング\n",
    "a, b = np.polyfit(x1, y1, 1)\n",
    "# フィッティング直線\n",
    "fh = a * x1 + b\n",
    "plt.plot(x1, fh, label=\"fh\")\n",
    "print(a)\n"
   ]
  },
  {
   "cell_type": "code",
   "execution_count": null,
   "metadata": {
    "scrolled": false
   },
   "outputs": [],
   "source": [
    "plt.scatter(x2, y2)\n",
    "#　フィッティング\n",
    "a, b = np.polyfit(x2, y2, 1)\n",
    "# フィッティング直線\n",
    "fh = a * x2 + b\n",
    "plt.plot(x2, fh, label=\"fh\")\n",
    "print(a)"
   ]
  },
  {
   "cell_type": "code",
   "execution_count": null,
   "metadata": {},
   "outputs": [],
   "source": [
    "plt.scatter(x3, y3)\n",
    "#　フィッティング\n",
    "a, b = np.polyfit(x3, y3, 1)\n",
    "# フィッティング直線\n",
    "fh = a * x3 + b\n",
    "plt.plot(x3, fh, label=\"fh\")\n",
    "print(a)"
   ]
  },
  {
   "cell_type": "code",
   "execution_count": null,
   "metadata": {},
   "outputs": [],
   "source": [
    "from scipy.interpolate import interp1d\n",
    "from statsmodels.tsa.stattools import ccovf, ccf\n",
    "\n",
    "def highres(y,kind='cubic',res=100):\n",
    "    # interpolate onto higher resolution grid with res* more data points than original input\n",
    "    # from scipy import interpolate\n",
    "    y = np.array(y)\n",
    "    x = np.arange(0, y.shape[0])\n",
    "    f = interp1d(x, y,kind='cubic')\n",
    "    xnew = np.linspace(0, x.shape[0]-1, x.shape[0]*res)\n",
    "    ynew = f(xnew)\n",
    "    return xnew,ynew\n",
    "\n",
    "def phase_spectra(ref,tar,ROI,res=100):\n",
    "    '''\n",
    "        Cross-Correlate data within ROI with a precision of 1./res\n",
    "        interpolate data onto higher resolution grid and\n",
    "        align target to reference\n",
    "    '''\n",
    "    x,r1 = highres(ref[ROI[0]:ROI[1]],kind='linear',res=res)\n",
    "    x,r2 = highres(tar[ROI[0]:ROI[1]],kind='linear',res=res)\n",
    "\n",
    "    r1 -= r1.mean()\n",
    "    r2 -= r2.mean()\n",
    "\n",
    "    cc = ccovf(r1,r2,demean=False,unbiased=False)\n",
    "    if np.argmax(cc) == 0:\n",
    "        cc = ccovf(r2,r1,demean=False,unbiased=False)\n",
    "        mod = -1\n",
    "    else:\n",
    "        mod = 1\n",
    "\n",
    "    s1 = np.argmax(cc)*mod*(1./res)\n",
    "    return s1\n",
    "\n",
    "    # older method that behaves the same just uses more lines of code\n",
    "    x,r1 = highres(ref[ROI[0]:ROI[1]],kind='linear',res=res)\n",
    "    x,r2 = highres(tar[ROI[0]:ROI[1]],kind='linear',res=res)\n",
    "\n",
    "    r1 -= r1.mean()\n",
    "    r1 -= r2.mean()\n",
    "\n",
    "    # compute the POC function\n",
    "    product = np.fft.fft(r1) * np.fft.fft(r2).conj()\n",
    "    cc = np.fft.fftshift(np.fft.ifft(product))\n",
    "\n",
    "    l = ref[ROI[0]:ROI[1]].shape[0]\n",
    "    shifts = np.linspace(-0.5*l,0.5*l,l*res)\n",
    "\n",
    "    return shifts[np.argmax(cc.real)]"
   ]
  },
  {
   "cell_type": "code",
   "execution_count": null,
   "metadata": {},
   "outputs": [],
   "source": [
    " s = phase_spectra(v_accel['ya'],linear_acc['Y'], [0,100])"
   ]
  },
  {
   "cell_type": "code",
   "execution_count": null,
   "metadata": {},
   "outputs": [],
   "source": [
    "s"
   ]
  },
  {
   "cell_type": "code",
   "execution_count": null,
   "metadata": {},
   "outputs": [],
   "source": []
  },
  {
   "cell_type": "code",
   "execution_count": null,
   "metadata": {},
   "outputs": [],
   "source": []
  },
  {
   "cell_type": "code",
   "execution_count": null,
   "metadata": {},
   "outputs": [],
   "source": []
  },
  {
   "cell_type": "markdown",
   "metadata": {},
   "source": [
    "# other action"
   ]
  },
  {
   "cell_type": "code",
   "execution_count": null,
   "metadata": {},
   "outputs": [],
   "source": [
    "import pandas as pd\n",
    "import matplotlib.pyplot as plt\n",
    "from statistics import median,mean\n",
    "%matplotlib inline\n",
    "from pylab import rcParams\n",
    "import sympy as sym\n",
    "import numpy as np\n",
    "from sklearn.svm import SVC\n",
    "from sklearn.pipeline import Pipeline\n",
    "from sklearn.model_selection import KFold\n",
    "from sklearn.metrics import confusion_matrix\n",
    "from sklearn.metrics import precision_score\n",
    "from sklearn.metrics import recall_score\n",
    "from sklearn.preprocessing import StandardScaler\n",
    "from scipy import stats as s\n",
    "from sklearn.metrics import classification_report\n",
    "from sklearn.ensemble import RandomForestClassifier\n",
    "import sklearn.cross_validation as crv\n",
    "from sklearn.metrics import accuracy_score\n",
    "def obtain_statistical_feature(window):\n",
    "    #features = np.array(np.array(np.var(window, axis=0)))\n",
    "    #features=np.array(np.array(np.mean(window-np.mean(window), axis=0)))\n",
    "    features=np.array( np.array(np.mean(window-np.median(window), axis=0))) \n",
    "    features=np.append(features, np.array(np.std(window, axis=0))) \n",
    "    features=np.append(features, np.array(np.var(window, axis=0)))\n",
    "    features=np.append(features, np.array(s.skew(window, axis=0)))\n",
    "    features=np.append(features, np.array(s.kurtosis(window, axis=0)))\n",
    "    features=np.append(features, np.array(get_tw_variance(window)))\n",
    "    return features.reshape(1,len(features))\n",
    "\n",
    "def get_tw_variance(window):\n",
    "    total_cols = window.shape[1]\n",
    "    tw_var = []\n",
    "    for i in range (total_cols):\n",
    "        column = window.iloc[:,i]\n",
    "        tw_var.append(get_tw_col_var(column))\n",
    "    return tw_var\n",
    "\n",
    "\n",
    "def get_tw_col_var(column):\n",
    "    mean = np.mean(column)\n",
    "    total = len(column)\n",
    "    \n",
    "    v_sum = 0\n",
    "    for i in range(total):\n",
    "        w = np.exp(-0.5*(total-i))\n",
    "        #print(\"el peso\", w, \"indice\", i, \"total\", total)\n",
    "        v = w*np.square(column.iloc[i]-mean)\n",
    "        v_sum += v\n",
    "    return v_sum"
   ]
  },
  {
   "cell_type": "markdown",
   "metadata": {},
   "source": [
    "# Acceleromater"
   ]
  },
  {
   "cell_type": "code",
   "execution_count": null,
   "metadata": {
    "scrolled": true
   },
   "outputs": [],
   "source": [
    "acc_lw = pd.read_csv(\"/Users/takeshin/ws/BerkeleyMHAD/Accelerometer/Shimmer01/acc_h01_s01_a11_r01.txt\",sep=' ' ,header=None,names=['X','Y','Z','TimeStamp'])\n",
    "acc_lw.head()"
   ]
  },
  {
   "cell_type": "code",
   "execution_count": null,
   "metadata": {
    "scrolled": false
   },
   "outputs": [],
   "source": [
    "#加速度グラフ生成\n",
    "acx = acc_lw[['TimeStamp']]\n",
    "\n",
    "acy1 = acc_lw['X']\n",
    "acy2 = acc_lw['Y']\n",
    "acy3 = acc_lw['Z']\n",
    "\n",
    "rcParams['figure.figsize'] = 18,9\n",
    "plt.plot(acx,acy1,label = \"x\",color = \"red\")\n",
    "plt.plot(acx,acy2,label=\"y\",color = \"blue\")\n",
    "plt.plot(acx,acy3,label=\"z\",color = 'green')\n",
    "plt.legend()\n",
    "\n",
    "plt.xlabel(\"time stamp [s]\")\n",
    "plt.ylabel(\"Acceleromerter X,Y,Z [G]\")\n",
    "plt.title(\"Accelerometer\")"
   ]
  },
  {
   "cell_type": "code",
   "execution_count": null,
   "metadata": {},
   "outputs": [],
   "source": [
    "#low-pass filter linear acceleration\n",
    "#線形加速度を得る\n",
    "alpha = 0.9\n",
    "for  c  in  ['X','Y','Z']:\n",
    "    g = 0  \n",
    "    col = acc_lw[c]           #'X'列から1列ずつ見る\n",
    "    for r in range(len(acc_lw)):         #1行ずつ見る\n",
    "        g = alpha*g + (1-alpha) * col[r]\n",
    "        linear = col[r] - g\n",
    "        acc_lw.iloc[r][c] = linear\n",
    "    \n",
    "linear_acc = acc_lw"
   ]
  },
  {
   "cell_type": "code",
   "execution_count": null,
   "metadata": {},
   "outputs": [],
   "source": [
    "#加速度グラフ生成(線形加速)\n",
    "acx = linear_acc[['TimeStamp']]\n",
    "\n",
    "acy1 = linear_acc['X']\n",
    "acy2 = linear_acc['Y']\n",
    "acy3 = linear_acc['Z']\n",
    "\n",
    "rcParams['figure.figsize'] = 18,9\n",
    "plt.plot(acx,acy1,label = \"x\",color = \"red\")\n",
    "plt.plot(acx,acy2,label=\"y\",color = \"blue\")\n",
    "plt.plot(acx,acy3,label=\"z\",color = 'green')\n",
    "plt.legend()\n",
    "\n",
    "plt.xlabel(\"time stamp [s]\")\n",
    "plt.ylabel(\"Acceleromerter X,Y,Z [G]\")\n",
    "plt.title(\"Accelerometer(after)\")"
   ]
  },
  {
   "cell_type": "code",
   "execution_count": null,
   "metadata": {},
   "outputs": [],
   "source": []
  },
  {
   "cell_type": "code",
   "execution_count": null,
   "metadata": {},
   "outputs": [],
   "source": [
    "#合成加速度を求める\n",
    "def one_acc(data):\n",
    "    xyz = pd.DataFrame(columns=[\"acc\"])\n",
    "    accs = []\n",
    "    for i in range(len(data)):\n",
    "        #ベクトルの大きさを求める\n",
    "        acc = np.linalg.norm(data.loc[i][data.columns != \"TimeStamp\"])\n",
    "        accs.append(acc)\n",
    "    xyz[\"acc\"]= accs\n",
    "    xyz[\"TimeStamp\"] = data[\"TimeStamp\"].tolist()\n",
    "    return xyz\n",
    "\n",
    "real_acc = one_acc(linear_acc)\n",
    "\n",
    "#加速度グラフ生成\n",
    "acx = real_acc[['TimeStamp']]\n",
    "\n",
    "acy = real_acc[['acc']]\n",
    "\n",
    "rcParams['figure.figsize'] = 18,9\n",
    "plt.plot(acx,acy,label=\"real\",color = \"red\")\n",
    "plt.legend()\n",
    "\n",
    "plt.xlabel(\"time stamp [s]\")\n",
    "plt.ylabel(\"Acceleromerter X,Y,Z [G]\")\n",
    "plt.title(\"Accelerometer\")"
   ]
  },
  {
   "cell_type": "markdown",
   "metadata": {},
   "source": [
    "# Mocap"
   ]
  },
  {
   "cell_type": "code",
   "execution_count": null,
   "metadata": {},
   "outputs": [],
   "source": [
    "#モーションキャプチャデータの読み込み(全身)\n",
    "data_mocap = pd.read_csv(\"/Users/takeshin/ws/BerkeleyMHAD/Mocap/OpticalData/moc_s01_a01_r01.txt\",sep=' ',header=None)"
   ]
  },
  {
   "cell_type": "code",
   "execution_count": null,
   "metadata": {},
   "outputs": [],
   "source": [
    "#座標値列の列名作成する\n",
    "p0 = ['x','y','z']\n",
    "marker =[]\n",
    "p2 =[]\n",
    "for a in range(1,44):       #Mocapマーカー数:43個\n",
    "    p1='m'+ str(a)\n",
    "    for b in p0:\n",
    "        p2 = p1 + b\n",
    "        marker.append(p2)\n",
    "    \n",
    "#marker"
   ]
  },
  {
   "cell_type": "code",
   "execution_count": null,
   "metadata": {
    "scrolled": true
   },
   "outputs": [],
   "source": [
    "#座標値列の列名変更\n",
    "data_mocap=data_mocap.rename(columns={data_mocap.columns[a]:marker[a] for a in range(129)} )\n",
    "#座標値列以外の列名変更\n",
    "data_mocap=data_mocap.rename(columns={129:'FrameNumber',130:'TimeStamp'})\n",
    "#data_mocap.head()"
   ]
  },
  {
   "cell_type": "code",
   "execution_count": null,
   "metadata": {
    "scrolled": false
   },
   "outputs": [],
   "source": [
    "mc_lw = data_mocap[['m16x','m16y','m16z','TimeStamp']]\n",
    "#mc_lw = data_mocap[['m30x','m30y','m30z','TimeStamp']]\n",
    "mc_lw.head()"
   ]
  },
  {
   "cell_type": "code",
   "execution_count": null,
   "metadata": {},
   "outputs": [],
   "source": [
    "#mocapグラフの生成する(brfore fix)\n",
    "mcx = mc_lw[['TimeStamp']]\n",
    "mcy1 = mc_lw[['m16x']]\n",
    "mcy2 = mc_lw[['m16y']]\n",
    "mcy3 = mc_lw[['m16z']]\n",
    "#mcy1 = mc_lw[['m30x']]\n",
    "#mcy2 = mc_lw[['m30y']]\n",
    "#mcy3 = mc_lw[['m30z']]\n",
    "\n",
    "\n",
    "\n",
    "rcParams['figure.figsize'] = 16,6\n",
    "plt.plot(mcx,mcy1,label = \"x\",color=\"red\")\n",
    "plt.plot(mcx,mcy2,label = \"y\",color=\"blue\")\n",
    "plt.plot(mcx,mcy3,label = \"z\",color=\"green\")\n",
    "plt.legend()\n",
    "\n",
    "plt.xlabel(\"time stamp [s]\")\n",
    "plt.ylabel(\"position[mm]\")\n",
    "plt.title('MotionCapture')"
   ]
  },
  {
   "cell_type": "code",
   "execution_count": null,
   "metadata": {},
   "outputs": [],
   "source": [
    "#fix NaN\n",
    "for  c  in  ['m16x','m16y','m16z']:\n",
    "#for  c  in  ['m30x','m30y','m30z']:    \n",
    "    col = mc_lw[c]  #'X'列から1列ずつ見る\n",
    "    for r in range(len(mc_lw)):  #1行ずつ見る\n",
    "        if col[r] == 0.0:       #0値が見つかれば\n",
    "            mc_lw.iloc[r][c] = 'NaN' #'NaN'を代入\n",
    "mc_lw_clean = mc_lw.interpolate()\n",
    "#mc_lw_clean = mc_lw_clean.fillna(method=\"bfill\")"
   ]
  },
  {
   "cell_type": "code",
   "execution_count": null,
   "metadata": {},
   "outputs": [],
   "source": [
    "print(len(mc_lw_clean)//16)\n",
    "print(len(mc_lw_clean)%16)\n",
    "print(len(mc_lw_clean))\n",
    "print(len(linear_acc))\n",
    "print(len(mc_lw_clean)/len(linear_acc))"
   ]
  },
  {
   "cell_type": "code",
   "execution_count": null,
   "metadata": {
    "scrolled": false
   },
   "outputs": [],
   "source": [
    "#mocapグラフの生成する(after fix)\n",
    "mcx = mc_lw_clean[['TimeStamp']]\n",
    "mcy1 = mc_lw_clean[['m16x']]\n",
    "mcy2 = mc_lw_clean[['m16y']]\n",
    "mcy3 = mc_lw_clean[['m16z']]\n",
    "#mcy1 = mc_lw_clean[['m30x']]\n",
    "#mcy2 = mc_lw_clean[['m30y']]\n",
    "#mcy3 = mc_lw_clean[['m30z']]\n",
    "\n",
    "\n",
    "rcParams['figure.figsize'] = 16,6\n",
    "plt.plot(mcx,mcy1,label = \"x\",color=\"red\")\n",
    "plt.plot(mcx,mcy2,label = \"y\",color=\"blue\")\n",
    "plt.plot(mcx,mcy3,label = \"z\",color=\"green\")\n",
    "plt.legend()\n",
    "\n",
    "plt.xlabel(\"time stamp [s]\")\n",
    "plt.ylabel(\"position[mm]\")\n",
    "plt.title('MotionCapture(after fix)')"
   ]
  },
  {
   "cell_type": "code",
   "execution_count": null,
   "metadata": {},
   "outputs": [],
   "source": [
    "#dawn sampling (avg)\n",
    "#初期値を設定\n",
    "i = 0\n",
    "mc_lw_ds = pd.DataFrame()\n",
    "#処理\n",
    "while  i < (len(mc_lw_clean)//15)*15:\n",
    "    mc_lw_ds= mc_lw_ds.append(mc_lw_clean.iloc[i+7,0:4],ignore_index=True)\n",
    "    i+=15\n",
    "if i < len(mc_lw_clean):\n",
    "    mc_lw_ds= mc_lw_ds.append(mc_lw_clean.iloc[i:,0:4].median(),ignore_index=True)\n",
    "\n",
    "mc_lw_ds.head()"
   ]
  },
  {
   "cell_type": "code",
   "execution_count": null,
   "metadata": {},
   "outputs": [],
   "source": [
    "mc_lw_ds.shape"
   ]
  },
  {
   "cell_type": "code",
   "execution_count": null,
   "metadata": {
    "scrolled": false
   },
   "outputs": [],
   "source": [
    "#mocapグラフの生成する(after dawn sampling)\n",
    "mcx = mc_lw_ds[['TimeStamp']]\n",
    "mcy1 = mc_lw_ds[['m16x']]\n",
    "mcy2 = mc_lw_ds[['m16y']]\n",
    "mcy3 = mc_lw_ds[['m16z']]\n",
    "#mcy1 = mc_lw_ds[['m30x']]\n",
    "#mcy2 = mc_lw_ds[['m30y']]\n",
    "#mcy3 = mc_lw_ds[['m30z']]\n",
    "\n",
    "\n",
    "rcParams['figure.figsize'] = 16,6\n",
    "plt.plot(mcx,mcy1,label = \"x\",color=\"red\")\n",
    "plt.plot(mcx,mcy2,label = \"y\",color=\"blue\")\n",
    "plt.plot(mcx,mcy3,label = \"z\",color=\"green\")\n",
    "plt.legend()\n",
    "\n",
    "plt.xlabel(\"time stamp [s]\")\n",
    "plt.ylabel(\"position[mm]\")\n",
    "plt.title('MotionCapture[after dawn sampling]')"
   ]
  },
  {
   "cell_type": "code",
   "execution_count": null,
   "metadata": {},
   "outputs": [],
   "source": [
    "def cal_va(data):\n",
    "    diffs = pd.DataFrame()\n",
    "    for i in range(len(data)-1):\n",
    "        diff = data.iloc[i+1]-data.iloc[i]\n",
    "        diffs = diffs.append(diff,ignore_index=True)\n",
    "        \n",
    "    vs = pd.DataFrame()\n",
    "    for i in range(len(diffs)):\n",
    "        v = diffs.iloc[i][1:]/diffs.iloc[i][\"TimeStamp\"]\n",
    "        vs = vs.append(v,ignore_index=True)\n",
    "    return vs"
   ]
  },
  {
   "cell_type": "code",
   "execution_count": null,
   "metadata": {},
   "outputs": [],
   "source": [
    "print(mc_lw_ds.shape)\n",
    "print(cal_va(mc_lw_ds).shape)\n",
    "print(mc_lw_ds.head())\n",
    "#print(cal_va(mc_lw_ds).head())\n",
    "cal_va(mc_lw_ds).columns"
   ]
  },
  {
   "cell_type": "code",
   "execution_count": null,
   "metadata": {
    "scrolled": true
   },
   "outputs": [],
   "source": [
    "#(mc_lw_ds.iloc[1][ \"m16y\" ]-mc_lw_ds.iloc[0][\"m16y\"])/(mc_lw_ds.iloc[1][ \"TimeStamp\"]-mc_lw_ds.iloc[0][ \"TimeStamp\"])"
   ]
  },
  {
   "cell_type": "code",
   "execution_count": null,
   "metadata": {},
   "outputs": [],
   "source": []
  },
  {
   "cell_type": "code",
   "execution_count": null,
   "metadata": {},
   "outputs": [],
   "source": [
    "#x座標 v[mm/s]\n",
    "x_v = cal_va(mc_lw_ds).iloc[:,0]\n",
    "#y座標 v[mm/s]\n",
    "y_v = cal_va(mc_lw_ds).iloc[:,1]\n",
    "#z座標 v[mm/s]\n",
    "z_v = cal_va(mc_lw_ds).iloc[:,2]"
   ]
  },
  {
   "cell_type": "code",
   "execution_count": null,
   "metadata": {
    "scrolled": false
   },
   "outputs": [],
   "source": [
    "times = mc_lw_ds['TimeStamp'].shift(periods=-1)\n",
    "mc_lw_v = pd.DataFrame({\"xv\":x_v,\"yv\":y_v,\"zv\":z_v,\"TimeStamp\":times})\n",
    "mc_lw_v = mc_lw_v.dropna()\n",
    "#mc_lw_v.tail()\n",
    "#times.head()\n",
    "#print(mc_lw_v.shape)"
   ]
  },
  {
   "cell_type": "code",
   "execution_count": null,
   "metadata": {},
   "outputs": [],
   "source": [
    "#加速度計算 acceleration\n",
    "#x\n",
    "x_a = cal_va(mc_lw_v).iloc[:,0]\n",
    "#y\n",
    "y_a = cal_va(mc_lw_v).iloc[:,1]\n",
    "#z\n",
    "z_a = cal_va(mc_lw_v).iloc[:,2]"
   ]
  },
  {
   "cell_type": "code",
   "execution_count": null,
   "metadata": {},
   "outputs": [],
   "source": [
    "cal_va(mc_lw_v).head()"
   ]
  },
  {
   "cell_type": "code",
   "execution_count": null,
   "metadata": {
    "scrolled": false
   },
   "outputs": [],
   "source": [
    "times = mc_lw_v['TimeStamp'].shift(periods=-1)\n",
    "mc_lw_a = pd.DataFrame({\"xa\":x_a,\"ya\":y_a,\"za\":z_a,\"TimeStamp\":times})\n",
    "mc_lw_a = mc_lw_a.dropna()\n",
    "mc_lw_a.head()"
   ]
  },
  {
   "cell_type": "code",
   "execution_count": null,
   "metadata": {},
   "outputs": [],
   "source": [
    "def lim2g(data):\n",
    "    for  c  in  data.columns:\n",
    "        if c != \"TimeStamp\":\n",
    "            col = data[c]  #1列ずつ見る\n",
    "            for r in range(len(data)):  #1行ずつ見る\n",
    "                if col[r] > 2.0:       #2.0より大きい値が見つかれば\n",
    "                    data.iloc[r][c] = 2.0 #2.0を代入\n",
    "                elif col[r] < -2.0:       #-2.0より小さい値が見つかれば\n",
    "                    data.iloc[r][c] = -2.0 #-2.0を代入\n",
    "    return data"
   ]
  },
  {
   "cell_type": "code",
   "execution_count": null,
   "metadata": {
    "scrolled": false
   },
   "outputs": [],
   "source": [
    "#単位を[G]に変換  [mm/s^2] →  [G]\n",
    "accel = mc_lw_a[['xa','ya','za']]*0.001/9.80665\n",
    "accel = pd.concat([accel,mc_lw_a[\"TimeStamp\"]], axis=1)\n",
    "#accel = accel.rolling(window= 10, center=False).median()\n",
    "#accel = accel.dropna()\n",
    "v_accel = np.clip(accel.loc[:,accel.columns != \"TimeStamp\"], -2.0, 2.0)\n",
    "#accel = lim2g(accel)\n",
    "v_accel = pd.concat([v_accel,accel[\"TimeStamp\"]],axis=1)\n",
    "v_accel = v_accel.reset_index(drop=True)\n",
    "v_accel.head()"
   ]
  },
  {
   "cell_type": "code",
   "execution_count": null,
   "metadata": {},
   "outputs": [],
   "source": [
    "mc_a_x = v_accel[['TimeStamp']]\n",
    "mc_a_y1 = v_accel[['xa']]\n",
    "mc_a_y2 = v_accel[['ya']]\n",
    "mc_a_y3 = v_accel[['za']]\n",
    "\n",
    "rcParams['figure.figsize'] = 10,6\n",
    "plt.plot(mc_a_x,mc_a_y1,label = \"Virtual X\",color=\"red\")\n",
    "#plt.plot(acx,acy1,label=\"Real X\",color=\"red\")\n",
    "\n",
    "plt.plot(mc_a_x,mc_a_y2,label = \"Virtual Y\",color=\"blue\")\n",
    "#plt.plot(acx,acy2,label=\"Real Y\",color=\"blue\")\n",
    "\n",
    "plt.plot(mc_a_x,mc_a_y3,label = \"Virtual Z\",color=\"green\")\n",
    "#plt.plot(acx,acy3,label=\"Real Z\",color=\"green\")\n",
    "\n",
    "plt.legend()\n",
    "\n",
    "plt.xlabel(\"time stamp [s]\")\n",
    "plt.ylabel(\"accel [G]\")\n",
    "plt.title(\"Acceleration \")\n",
    "plt.plot()"
   ]
  },
  {
   "cell_type": "code",
   "execution_count": null,
   "metadata": {},
   "outputs": [],
   "source": [
    "print(obtain_statistical_feature(linear_acc.loc[:, linear_acc.columns != 'TimeStamp'])[0])\n",
    "print(obtain_statistical_feature(v_accel.loc[:, v_accel.columns != 'TimeStamp'])[0])"
   ]
  },
  {
   "cell_type": "code",
   "execution_count": null,
   "metadata": {
    "scrolled": false
   },
   "outputs": [],
   "source": [
    "mc_a_x = v_accel[['TimeStamp']]\n",
    "mc_a_y1 = v_accel[['xa']]\n",
    "mc_a_y2 = v_accel[['ya']]\n",
    "mc_a_y3 = v_accel[['za']]\n",
    "\n",
    "rcParams['figure.figsize'] = 10,6\n",
    "plt.plot(mc_a_x[5:-3],mc_a_y1[5:-3],label = \"Virtual X\")#,color=\"mistyrose\")\n",
    "plt.plot(acx[8:],acy1[8:],label=\"Real X\",color=\"red\")\n",
    "#plt.scatter(mc_a_x[5:-3],mc_a_y1[5:-3],label = \"Virtual X\")#,color=\"mistyrose\")\n",
    "#plt.scatter(acx[8:],acy1[8:],label=\"Real X\",color=\"red\")\n",
    "plt.legend()\n",
    "\n",
    "plt.xlabel(\"time stamp [s]\")\n",
    "plt.ylabel(\"accel [G]\")\n",
    "plt.title(\"Acceleration   X\")\n",
    "plt.plot()\n",
    "\n",
    "\n",
    "#x = mc_a_y1[5:-7]\n",
    "#a = []\n",
    "#for i in range(len(x)):\n",
    "   # a.append(x.values[i][0])\n",
    "#x = a\n",
    "#y = acy1[8:]\n",
    "#print(len(x),len(y))\n",
    "#np.corrcoef(x, y)[0, 1]\n"
   ]
  },
  {
   "cell_type": "code",
   "execution_count": null,
   "metadata": {
    "scrolled": false
   },
   "outputs": [],
   "source": [
    "rcParams['figure.figsize'] = 10,6\n",
    "plt.plot(mc_a_x[:],mc_a_y2[:],label = \"Virtual Y\")#,color=\"red\")\n",
    "plt.plot(acx[:],acy2[:],label=\"Real Y\",color=\"blue\")\n",
    "#plt.scatter(mc_a_x[10:],mc_a_y2[10:],label = \"Virtual Y\")#,color=\"red\")\n",
    "#plt.scatter(acx[17:],acy2[17:],label=\"Real Y\",color=\"blue\")\n",
    "\n",
    "\n",
    "plt.legend()\n",
    "\n",
    "plt.xlabel(\"time stamp [s]\")\n",
    "plt.ylabel(\"accel [G]\")\n",
    "plt.title(\"Acceleration     Y \")\n",
    "plt.plot()\n",
    "\n",
    "print(len( mc_a_y2[4:]),len( acy2[:]))\n",
    "\n",
    "#x = mc_a_y2[4:]\n",
    "#a = []\n",
    "#for i in range(len(x)):\n",
    "  #  a.append(x.values[i][0])\n",
    "#x = a\n",
    "#y = acy2[:]\n",
    "#print(len(x),len(y))\n",
    "#np.corrcoef(x, y)[0, 1]\n"
   ]
  },
  {
   "cell_type": "code",
   "execution_count": null,
   "metadata": {
    "scrolled": false
   },
   "outputs": [],
   "source": [
    "rcParams['figure.figsize'] = 10,6\n",
    "plt.plot(mc_a_x[5:],mc_a_y3[5:],label = \"Virtual Z\")#,color=\"lightsage\")\n",
    "plt.plot(acx[7:],acy3[7:],label=\"Real Z\",color=\"green\")\n",
    "#plt.scatter(mc_a_x[5:],mc_a_y3[5:],label = \"Virtual Z\")#,color=\"lightsage\")\n",
    "#plt.scatter(acx[7:],acy3[7:],label=\"Real Z\",color=\"green\")\n",
    "\n",
    "\n",
    "\n",
    "plt.legend()\n",
    "\n",
    "plt.xlabel(\"time stamp [s]\")\n",
    "plt.ylabel(\"accel [G]\")\n",
    "plt.title(\"Acceleration     Z \")\n",
    "plt.plot()\n",
    "\n",
    "\n",
    "#x = mc_a_y3[10:-1]\n",
    "#a = []\n",
    "#for i in range(len(x)):\n",
    "   # a.append(x.values[i][0])\n",
    "#x = a\n",
    "#y = acy3[8:-2]\n",
    "#print(len(x),len(y))\n",
    "#np.corrcoef(x, y)[0, 1]\n"
   ]
  },
  {
   "cell_type": "code",
   "execution_count": null,
   "metadata": {},
   "outputs": [],
   "source": [
    "virtual_acc = one_acc(v_accel)\n",
    "len(v_accel)"
   ]
  },
  {
   "cell_type": "code",
   "execution_count": null,
   "metadata": {},
   "outputs": [],
   "source": [
    "len(real_acc)"
   ]
  },
  {
   "cell_type": "code",
   "execution_count": null,
   "metadata": {
    "scrolled": false
   },
   "outputs": [],
   "source": [
    "#加速度グラフ生成\n",
    "acxv = virtual_acc[['TimeStamp']]\n",
    "\n",
    "acyv = virtual_acc[['acc']]\n",
    "\n",
    "rcParams['figure.figsize'] = 18,9\n",
    "plt.plot(acx,acy,label=\"real\",color = \"red\")\n",
    "#plt.scatter(acx,acy,label=\"real\",color = \"red\")\n",
    "plt.plot(acxv,acyv,label=\"virtual\",color = \"blue\")\n",
    "#plt.scatter(acxv,acyv,label=\"virtual\",color = \"blue\")\n",
    "\n",
    "\n",
    "plt.legend()\n",
    "\n",
    "plt.xlabel(\"time stamp [s]\")\n",
    "plt.ylabel(\"Acceleromerter X,Y,Z [G]\")\n",
    "plt.title(\"Accelerometer\")\n",
    "\n"
   ]
  },
  {
   "cell_type": "code",
   "execution_count": null,
   "metadata": {},
   "outputs": [],
   "source": []
  },
  {
   "cell_type": "code",
   "execution_count": null,
   "metadata": {},
   "outputs": [],
   "source": []
  },
  {
   "cell_type": "code",
   "execution_count": null,
   "metadata": {},
   "outputs": [],
   "source": []
  },
  {
   "cell_type": "code",
   "execution_count": null,
   "metadata": {},
   "outputs": [],
   "source": []
  },
  {
   "cell_type": "code",
   "execution_count": null,
   "metadata": {},
   "outputs": [],
   "source": []
  },
  {
   "cell_type": "code",
   "execution_count": null,
   "metadata": {},
   "outputs": [],
   "source": []
  }
 ],
 "metadata": {
  "kernelspec": {
   "display_name": "Python 3",
   "language": "python",
   "name": "python3"
  },
  "language_info": {
   "codemirror_mode": {
    "name": "ipython",
    "version": 3
   },
   "file_extension": ".py",
   "mimetype": "text/x-python",
   "name": "python",
   "nbconvert_exporter": "python",
   "pygments_lexer": "ipython3",
   "version": "3.6.6"
  }
 },
 "nbformat": 4,
 "nbformat_minor": 2
}
