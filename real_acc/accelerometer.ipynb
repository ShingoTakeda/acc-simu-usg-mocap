{
 "cells": [
  {
   "cell_type": "code",
   "execution_count": 7,
   "metadata": {},
   "outputs": [],
   "source": [
    "import pandas as pd\n",
    "import matplotlib.pyplot as plt\n",
    "from statistics import median,mean\n",
    "%matplotlib inline\n",
    "from pylab import rcParams\n",
    "import sympy as sym\n",
    "import numpy as np\n",
    "from sklearn.svm import SVC\n",
    "from sklearn.pipeline import Pipeline\n",
    "from sklearn.model_selection import KFold\n",
    "from sklearn.metrics import accuracy_score\n",
    "from sklearn.metrics import confusion_matrix\n",
    "from sklearn.metrics import precision_score\n",
    "from sklearn.metrics import recall_score\n",
    "from sklearn.preprocessing import StandardScaler\n",
    "from scipy import stats as s\n",
    "from sklearn.metrics import classification_report\n",
    "from sklearn.ensemble import RandomForestClassifier\n",
    "import sklearn.cross_validation as crv\n",
    "from sklearn.linear_model import LinearRegression"
   ]
  },
  {
   "cell_type": "code",
   "execution_count": 2,
   "metadata": {},
   "outputs": [],
   "source": [
    "def read_acc(file):\n",
    "    data_acc = pd.read_csv(file,sepx=' ',header=None)\n",
    "   \n",
    "    data_acc = data_acc.rename(columns={data_acc.columns[0]:'X_acc', data_acc.columns[1]:'Y_acc', data_acc.columns[2]:'Z_acc',data_acc.columns[3]:'TimeStamp'} )\n",
    "    \n",
    "    return data_acc"
   ]
  },
  {
   "cell_type": "code",
   "execution_count": 3,
   "metadata": {},
   "outputs": [],
   "source": [
    "#fix NaN\n",
    "def fix_NaN(data):\n",
    "    for  c  in  data.columns:\n",
    "        col = data[c]  #'X'列から1列ずつ見る\n",
    "        for r in range(len(data)):  #1行ずつ見る\n",
    "            if col[r] == 0.0:       #0値が見つかれば\n",
    "                data.iloc[r][c] = 'NaN' #'NaN'を代入\n",
    "    mc_clean = data.interpolate()\n",
    "    mc_clean = mc_clean.fillna(0)\n",
    "    return mc_clean"
   ]
  },
  {
   "cell_type": "code",
   "execution_count": 4,
   "metadata": {},
   "outputs": [],
   "source": [
    "#線形加速度を得る\n",
    "def linear_acc(data):\n",
    "    alpha = 0.9\n",
    "    for  c  in  ['X_acc','Y_acc','Z_acc']:\n",
    "        g = 0  \n",
    "        col = data[c]           #'X'列から1列ずつ見る\n",
    "        for r in range(len(data)):         #1行ずつ見る\n",
    "            #Isolate the force of gravity with the low-pass filter.\n",
    "            g = alpha*g + (1-alpha) * col[r]\n",
    "            #Remove the gravity contribution with the high-pass filter.\n",
    "            linear = col[r] - g\n",
    "            data.iloc[r][c] = linear\n",
    "        linear_acc = data\n",
    "    return linear_acc"
   ]
  },
  {
   "cell_type": "code",
   "execution_count": 5,
   "metadata": {},
   "outputs": [],
   "source": [
    "def obtain_statistical_feature(window):\n",
    "    #features = np.array(np.array(np.var(window, axis=0)))\n",
    "    #features=np.array(np.array(np.mean(window-np.mean(window), axis=0)))\n",
    "    features=np.array(np.array(np.mean(window-np.median(window), axis=0))) \n",
    "    features=np.append(features, np.array(np.std(window, axis=0))) \n",
    "    features=np.append(features, np.array(np.var(window, axis=0)))\n",
    "    features=np.append(features, np.array(s.skew(window, axis=0)))\n",
    "    features=np.append(features, np.array(s.kurtosis(window, axis=0)))\n",
    "    features=np.append(features, np.array(get_tw_variance(window)))\n",
    "    return features.reshape(1,len(features))"
   ]
  },
  {
   "cell_type": "code",
   "execution_count": 6,
   "metadata": {},
   "outputs": [],
   "source": [
    "def get_tw_variance(window):\n",
    "    total_cols = window.shape[1]\n",
    "    tw_var = []\n",
    "    for i in range (total_cols):\n",
    "        column = window.iloc[:,i]\n",
    "        tw_var.append(get_tw_col_var(column))\n",
    "    return tw_var\n",
    "\n",
    "\n",
    "def get_tw_col_var(column):\n",
    "    mean = np.mean(column)\n",
    "    total = len(column)\n",
    "    \n",
    "    v_sum = 0\n",
    "    for i in range(total):\n",
    "        w = np.exp(-0.5*(total-i))\n",
    "        #print(\"el peso\", w, \"indice\", i, \"total\", total)\n",
    "        v = w*np.square(column.iloc[i]-mean)\n",
    "        v_sum += v\n",
    "    return v_sum"
   ]
  },
  {
   "cell_type": "code",
   "execution_count": 8,
   "metadata": {},
   "outputs": [],
   "source": [
    "def real_accel(*sensor_n):\n",
    "    x = np.empty([0,3*6])\n",
    "    y = np.empty([0,])\n",
    "    print(sensor_n)\n",
    "    #Read all mocap data\n",
    "    subjects =  [\"01\",\"02\",\"03\",\"04\",\"05\",\"06\",\"07\",\"08\",\"09\",\"10\",\"11\",\"12\"]\n",
    "    actions = [\"01\",\"02\",\"03\",\"04\",\"05\",\"06\",\"07\",\"08\",\"09\",\"10\",\"11\"]\n",
    "    for i in sensor_n: \n",
    "        for subject in subjects:\n",
    "            for action in actions:\n",
    "                for record in range(1,6):\n",
    "                    try:\n",
    "                        data = read_acc('/Users/takeshin/ws/BerkeleyMHAD/Accelerometer/Shimmer0'+str(i)+'/acc_h0'+str(i)+'_s'+str(subject)+'_a'+str(action)+'_r0'+str(record)+'.txt')\n",
    "                        print('acc_h0'+str(i)+'_s'+str(subject)+'_a'+str(action)+'_r0'+str(record)+'.txt')\n",
    "                        data = fix_NaN(data)\n",
    "                        data = linear_acc(data)  \n",
    "                        sf = obtain_statistical_feature(data[['X_acc','Y_acc','Z_acc']])\n",
    "                        x =np.append(x,sf, axis=0)\n",
    "                        y = np.append(y,[action], axis=0)\n",
    "                    except FileNotFoundError:\n",
    "                        pass\n",
    "\n",
    "    return x, y   "
   ]
  },
  {
   "cell_type": "code",
   "execution_count": null,
   "metadata": {
    "scrolled": true
   },
   "outputs": [],
   "source": [
    "x_real,y_real = real_accel(1)"
   ]
  },
  {
   "cell_type": "code",
   "execution_count": null,
   "metadata": {},
   "outputs": [],
   "source": [
    "x_real.shape"
   ]
  },
  {
   "cell_type": "code",
   "execution_count": null,
   "metadata": {},
   "outputs": [],
   "source": [
    "def ml_ar(X,y):\n",
    "    x_train, x_test, y_train, y_test = crv.train_test_split(X, y, test_size=0.30, random_state=42)\n",
    "    clf = RandomForestClassifier(n_estimators=20, random_state=42)\n",
    "    clf.fit(x_train, y_train)\n",
    "    y_predict = clf.predict(x_test)\n",
    "    conf = confusion_matrix(y_test, y_predict)\n",
    "    print (accuracy_score(y_test, y_predict) ) \n",
    "    actions = [\"01\",\"02\",\"03\",\"04\",\"05\",\"06\",\"07\",\"08\",\"09\",\"10\",\"11\"]\n",
    "    print(classification_report(y_test, y_predict, target_names=actions))\n",
    "    print(conf)"
   ]
  },
  {
   "cell_type": "code",
   "execution_count": null,
   "metadata": {
    "scrolled": false
   },
   "outputs": [],
   "source": [
    "ml_ar(x_real,y_real) "
   ]
  },
  {
   "cell_type": "code",
   "execution_count": null,
   "metadata": {},
   "outputs": [],
   "source": []
  },
  {
   "cell_type": "code",
   "execution_count": null,
   "metadata": {},
   "outputs": [],
   "source": []
  },
  {
   "cell_type": "code",
   "execution_count": null,
   "metadata": {},
   "outputs": [],
   "source": []
  },
  {
   "cell_type": "code",
   "execution_count": null,
   "metadata": {},
   "outputs": [],
   "source": [
    "def ml_ar2(X,y):                              \n",
    "    #Try classifier\n",
    "    estimators = []\n",
    "    estimators.append(('standardize', StandardScaler()))\n",
    "    estimators.append(('clf', SVC(kernel='linear')))\n",
    "    model = Pipeline(estimators)\n",
    "    \n",
    "    seed = 11\n",
    "    kf = KFold(n_splits=3, random_state=seed, shuffle=True)\n",
    "    accuracy = [] \n",
    "    \n",
    "    for train_index, test_index in kf.split(X):\n",
    "        X_train, X_test = X[train_index], X[test_index]\n",
    "        y_train, y_test = y[train_index], y[test_index]\n",
    "        model.fit(X_train, y_train)\n",
    "        acc_train = model.score(X_train, y_train)\n",
    "        acc_test = model.score(X_test, y_test)\n",
    "        accuracy.append(acc_test)\n",
    "        #print('Accuracy on training set: {:.2f}'\n",
    "        #  .format(model.score(X_train, y_train)))\n",
    "        #print('Accuracy on test set: {:.2f}'\n",
    "        #  .format(model.score(X_test, y_test)))\n",
    "        y_pred = model.predict(X_test)\n",
    "        conf = confusion_matrix(y_test, y_pred)\n",
    "        precision = precision_score(y_test, y_pred,average='macro') \n",
    "        recall = recall_score(y_test, y_pred,average='macro')\n",
    "        print(\"*Accuracy* train:\",acc_train, \"test:\",acc_test)\n",
    "        #print(conf)\n",
    "       # print (\"precision:\",precision,\"recall:\",recall)\n",
    "        actions = [\"01\",\"02\",\"03\",\"04\",\"05\",\"06\",\"07\",\"08\",\"09\",\"10\",\"11\"]\n",
    "        #actions = [\"Jumping in place\",\"Jumping jacks\",\"Bending-hands up all the way down\",\"Punching(boxing)\",\"Waving-two hands\",\"Waving - one hand (right)\",\"Clapping hands\",\"Throwing a ball\",\"09\",\"10\",\"11\"]\n",
    "        print(classification_report(y_test, y_pred, target_names=actions))\n",
    "        print(\"-----------\")\n",
    "    print(\"*test_ave*\",sum(accuracy)/len(accuracy))"
   ]
  },
  {
   "cell_type": "code",
   "execution_count": null,
   "metadata": {},
   "outputs": [],
   "source": [
    "ml_ar2(x_real,y_real) "
   ]
  },
  {
   "cell_type": "code",
   "execution_count": null,
   "metadata": {},
   "outputs": [],
   "source": []
  },
  {
   "cell_type": "markdown",
   "metadata": {},
   "source": [
    "# ポッケ位置"
   ]
  },
  {
   "cell_type": "code",
   "execution_count": null,
   "metadata": {},
   "outputs": [],
   "source": [
    "#plt.title(\"\")\n",
    "w = 0.2  #棒の幅\n",
    "y1 = np.array([])\n",
    "y2 = np.array([0.86, 0.84, 0.94,0.95,0.46,0.58,0.90,0.94,0.93,0.79,0.84])\n",
    "\n",
    "x = np.arange(len(y1))       #データ数に合わせて横軸を準備\n",
    "\n",
    "plt.bar(x, y1, width=w, label='virtual', align=\"center\")\n",
    "plt.bar(x + w, y2, width=w, label='real', align=\"center\")\n",
    "plt.legend(loc=\"best\")    \n",
    "plt.xlabel(\"action\")\n",
    "plt.ylabel(\"f1-score\")\n",
    "\n",
    "# X軸の目盛りを科目名にする　日本語を使う場合はfontproperties=fp\n",
    "plt.xticks(x + w/2, ['01','02','03','04','05','06','07','08','09','10','11'])\n",
    "plt.show()"
   ]
  },
  {
   "cell_type": "code",
   "execution_count": null,
   "metadata": {},
   "outputs": [],
   "source": [
    "#plt.title(\"\")\n",
    "w = 0.2  #棒の幅\n",
    "y1 = np.array([78.9,76.9,100,90,52.9,50,69.2,91.7,66.7,83.3,50])\n",
    "y2 = np.array([72.2,54.5,100,92.9,35,42.9,90,83.3,100,75,86.7])\n",
    "\n",
    "x = np.arange(len(y1))       #データ数に合わせて横軸を準備\n",
    "\n",
    "plt.bar(x, y1, width=w, label='virtual', align=\"center\")\n",
    "plt.bar(x + w, y2, width=w, label='real', align=\"center\")\n",
    "plt.legend(loc=\"best\")    \n",
    "plt.xlabel(\"action\")\n",
    "plt.ylabel(\"accuracy[%]\")\n",
    "\n",
    "# X軸の目盛りを科目名にする　日本語を使う場合はfontproperties=fp\n",
    "plt.xticks(x + w/2, ['01','02','03','04','05','06','07','08','09','10','11'])\n",
    "plt.show()"
   ]
  },
  {
   "cell_type": "markdown",
   "metadata": {},
   "source": [
    "# 手首位置"
   ]
  },
  {
   "cell_type": "code",
   "execution_count": null,
   "metadata": {
    "scrolled": true
   },
   "outputs": [],
   "source": [
    "#plt.title(\"\")\n",
    "w = 0.2  #棒の幅\n",
    "y1 = np.array([])\n",
    "y2 = np.array([0.97, 1.0, 0.97,1.0,1.0,0.98,1.00,0.73,1.0,0.98,0.82])\n",
    "\n",
    "x = np.arange(len(y1))       #データ数に合わせて横軸を準備\n",
    "\n",
    "plt.bar(x, y1, width=w, label='virtual', align=\"center\")\n",
    "plt.bar(x + w, y2, width=w, label='real', align=\"center\")\n",
    "plt.legend(loc=\"best\")    \n",
    "plt.xlabel(\"action\")\n",
    "plt.ylabel(\"f1-score\")\n",
    "\n",
    "# X軸の目盛りを科目名にする　日本語を使う場合はfontproperties=fp\n",
    "plt.xticks(x + w/2, ['01','02','03','04','05','06','07','08','09','10','11'])\n",
    "plt.show()"
   ]
  },
  {
   "cell_type": "code",
   "execution_count": null,
   "metadata": {},
   "outputs": [],
   "source": []
  },
  {
   "cell_type": "code",
   "execution_count": null,
   "metadata": {},
   "outputs": [],
   "source": []
  },
  {
   "cell_type": "code",
   "execution_count": null,
   "metadata": {},
   "outputs": [],
   "source": []
  },
  {
   "cell_type": "code",
   "execution_count": null,
   "metadata": {},
   "outputs": [],
   "source": []
  },
  {
   "cell_type": "code",
   "execution_count": null,
   "metadata": {},
   "outputs": [],
   "source": []
  },
  {
   "cell_type": "markdown",
   "metadata": {},
   "source": [
    "## (腰)モーションキャプチャデータで行動認識（ダウンサンプリングを行わなった場合）"
   ]
  },
  {
   "cell_type": "code",
   "execution_count": 13,
   "metadata": {
    "scrolled": true
   },
   "outputs": [
    {
     "data": {
      "image/png": "[encoded data removed]",
      "text/plain": [
       "<matplotlib.figure.Figure at 0x112218ba8>"
      ]
     },
     "metadata": {},
     "output_type": "display_data"
    }
   ],
   "source": [
    "#plt.title(\"\")\n",
    "w = 0.2  #棒の幅\n",
    "y1 = np.array([0.64,0.56,0.50,0.58,0.71,0.34,0.74,0.55,0.46,0.63,0.61])\n",
    "y2 = np.array([0.73, 0.67, 0.70,0.73,0.35,0.57,0.79,0.62,0.42,0.47,0.50])\n",
    "\n",
    "x = np.arange(len(y1))       #データ数に合わせて横軸を準備\n",
    "\n",
    "plt.bar(x, y1, width=w, label='virtual', align=\"center\")\n",
    "plt.bar(x + w, y2, width=w, label='real', align=\"center\")\n",
    "plt.legend()    \n",
    "plt.xlabel(\"action\")\n",
    "plt.ylabel(\"f1-score\")\n",
    "\n",
    "# X軸の目盛りを科目名にする　日本語を使う場合はfontproperties=fp\n",
    "plt.xticks(x + w/2, ['01','02','03','04','05','06','07','08','09','10','11'])\n",
    "plt.show()"
   ]
  },
  {
   "cell_type": "code",
   "execution_count": null,
   "metadata": {},
   "outputs": [],
   "source": []
  },
  {
   "cell_type": "code",
   "execution_count": null,
   "metadata": {},
   "outputs": [],
   "source": []
  }
 ],
 "metadata": {
  "kernelspec": {
   "display_name": "Python 3",
   "language": "python",
   "name": "python3"
  },
  "language_info": {
   "codemirror_mode": {
    "name": "ipython",
    "version": 3
   },
   "file_extension": ".py",
   "mimetype": "text/x-python",
   "name": "python",
   "nbconvert_exporter": "python",
   "pygments_lexer": "ipython3",
   "version": "3.6.6"
  }
 },
 "nbformat": 4,
 "nbformat_minor": 2
}
