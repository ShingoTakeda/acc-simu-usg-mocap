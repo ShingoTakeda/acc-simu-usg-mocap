{
 "cells": [
  {
   "cell_type": "code",
   "execution_count": null,
   "metadata": {},
   "outputs": [],
   "source": [
    "import pandas as pd\n",
    "import matplotlib.pyplot as plt\n",
    "from statistics import median,mean\n",
    "%matplotlib inline\n",
    "from pylab import rcParams\n",
    "import sympy as sym"
   ]
  },
  {
   "cell_type": "code",
   "execution_count": null,
   "metadata": {},
   "outputs": [],
   "source": [
    "#モーションキャプチャデータの読み込み(全身)\n",
    "data_mocap = pd.read_csv(\"/Users/takeshin/ws/BerkeleyMHAD/Mocap/OpticalData/moc_s01_a01_r01.txt\",sep=' ',header=None)"
   ]
  },
  {
   "cell_type": "code",
   "execution_count": null,
   "metadata": {},
   "outputs": [],
   "source": [
    "#座標値列の列名作成する\n",
    "p0 = ['x','y','z']\n",
    "marker =[]\n",
    "p2 =[]\n",
    "for a in range(1,44):       #Mocapマーカー数:43個\n",
    "    p1='m'+ str(a)\n",
    "    for b in p0:\n",
    "        p2 = p1 + b\n",
    "        marker.append(p2)"
   ]
  },
  {
   "cell_type": "code",
   "execution_count": null,
   "metadata": {},
   "outputs": [],
   "source": [
    "#座標値列の列名変更\n",
    "data_mocap=data_mocap.rename(columns={data_mocap.columns[a]:marker[a] for a in range(129)} )\n",
    "#座標値列以外の列名変更\n",
    "data_mocap=data_mocap.rename(columns={129:'FrameNumber',130:'TimeStamp'})\n",
    "#data_mocap.head()"
   ]
  },
  {
   "cell_type": "code",
   "execution_count": null,
   "metadata": {},
   "outputs": [],
   "source": [
    "#mocapの左手首のデータを取得\n",
    "mc_lw = data_mocap[['m16x','m16y','m16z','TimeStamp']]\n",
    "#mc_lw = data_mocap[['m17x','m17y','m17z','TimeStamp']]\n",
    "mc_lw.head()"
   ]
  },
  {
   "cell_type": "code",
   "execution_count": null,
   "metadata": {},
   "outputs": [],
   "source": [
    "#fix NaN\n",
    "for  c  in  ['m16x','m16y','m16z']:\n",
    "    col = mc_lw[c]  #'X'列から1列ずつ見る\n",
    "    for r in range(len(mc_lw)):  #1行ずつ見る\n",
    "        if col[r] == 0.0:       #0値が見つかれば\n",
    "            mc_lw.iloc[r][c] = 'NaN' #'NaN'を代入\n",
    "mc_lw_clean = mc_lw.interpolate()"
   ]
  },
  {
   "cell_type": "code",
   "execution_count": null,
   "metadata": {},
   "outputs": [],
   "source": [
    "#dawn sampling (avg)\n",
    "#初期値を設定\n",
    "i = 0\n",
    "mc_lw_ds = pd.DataFrame()\n",
    "#処理\n",
    "while  i < (len(mc_lw_clean)//16)*16:\n",
    "    mc_lw_ds= mc_lw_ds.append(mc_lw_clean.iloc[i : i+16,0:4].mean(),ignore_index=True)\n",
    "    i+=16\n",
    "    \n",
    "mc_lw_ds= mc_lw_ds.append(mc_lw_clean.iloc[i : i+15,0:4].mean(),ignore_index=True)"
   ]
  },
  {
   "cell_type": "code",
   "execution_count": null,
   "metadata": {},
   "outputs": [],
   "source": [
    "mc_lw_ds.head()"
   ]
  },
  {
   "cell_type": "code",
   "execution_count": null,
   "metadata": {},
   "outputs": [],
   "source": [
    "def cal_va(data):\n",
    "    diffs = pd.DataFrame()\n",
    "    for i in range(len(data)-1):\n",
    "        diff = data.iloc[i+1]-data.iloc[i]\n",
    "        diffs = diffs.append(diff,ignore_index=True)\n",
    "        \n",
    "    vs = pd.DataFrame()\n",
    "    for i in range(len(diffs)):\n",
    "        v = diffs.iloc[i][1:]/diffs.iloc[i][\"TimeStamp\"]\n",
    "        vs = vs.append(v,ignore_index=True)\n",
    "    return vs"
   ]
  },
  {
   "cell_type": "code",
   "execution_count": null,
   "metadata": {},
   "outputs": [],
   "source": [
    "#x座標 v[mm/s]\n",
    "x_v = cal_va(mc_lw_ds).iloc[:,0]\n",
    "#y座標 v[mm/s]\n",
    "y_v = cal_va(mc_lw_ds).iloc[:,1]\n",
    "#z座標 v[mm/s]\n",
    "z_v = cal_va(mc_lw_ds).iloc[:,2]"
   ]
  },
  {
   "cell_type": "code",
   "execution_count": null,
   "metadata": {},
   "outputs": [],
   "source": [
    "times = mc_lw_ds['TimeStamp'].shift(periods=-1)\n",
    "mc_lw_v = pd.DataFrame({\"xv\":x_v,\"yv\":y_v,\"zv\":z_v,\"TimeStamp\":times})\n",
    "mc_lw_v = mc_lw_v.dropna()\n",
    "mc_lw_v.head()\n",
    "mc_lw_v.shape"
   ]
  },
  {
   "cell_type": "code",
   "execution_count": null,
   "metadata": {},
   "outputs": [],
   "source": [
    "mc_lw_v.head()"
   ]
  },
  {
   "cell_type": "code",
   "execution_count": null,
   "metadata": {},
   "outputs": [],
   "source": [
    "#加速度計算 acceleration\n",
    "#x\n",
    "x_a = cal_va(mc_lw_v).iloc[:,0]\n",
    "#y\n",
    "y_a = cal_va(mc_lw_v).iloc[:,1]\n",
    "#z\n",
    "z_a = cal_va(mc_lw_v).iloc[:,2]"
   ]
  },
  {
   "cell_type": "code",
   "execution_count": null,
   "metadata": {},
   "outputs": [],
   "source": [
    "times = mc_lw_v['TimeStamp'].shift(periods=-1)\n",
    "mc_lw_a = pd.DataFrame({\"xa\":x_a,\"ya\":y_a,\"za\":z_a,\"TimeStamp\":times})\n",
    "mc_lw_a = mc_lw_a.dropna()"
   ]
  },
  {
   "cell_type": "code",
   "execution_count": null,
   "metadata": {},
   "outputs": [],
   "source": [
    "mc_lw_a.head()"
   ]
  },
  {
   "cell_type": "code",
   "execution_count": null,
   "metadata": {},
   "outputs": [],
   "source": [
    "#単位を[G]に変換  [mm/s^2] →  [G]\n",
    "accel = mc_lw_a[['xa','ya','za']]*0.001/9.80665\n",
    "accel = accel.rolling(window= 10, center=False).mean()\n",
    "accel = pd.concat([accel,mc_lw_a[\"TimeStamp\"]], axis=1)"
   ]
  },
  {
   "cell_type": "code",
   "execution_count": null,
   "metadata": {},
   "outputs": [],
   "source": [
    "accel = accel.dropna()\n",
    "accel.head()\n"
   ]
  },
  {
   "cell_type": "code",
   "execution_count": null,
   "metadata": {
    "scrolled": true
   },
   "outputs": [],
   "source": [
    "mc_a_x = accel[['TimeStamp']]\n",
    "mc_a_y1 = accel[['xa']]\n",
    "mc_a_y2 = accel[['ya']]\n",
    "mc_a_y3 = accel[['za']]\n",
    "\n",
    "rcParams['figure.figsize'] = 16,10\n",
    "plt.plot(mc_a_x,mc_a_y1,label = \"x\",color=\"red\")\n",
    "plt.plot(mc_a_x,mc_a_y2,label = \"Motion Capture\",color=\"blue\")\n",
    "plt.plot(mc_a_x,mc_a_y3,label = \"z\",color=\"green\")\n",
    "plt.legend()\n",
    "\n",
    "plt.xlabel(\"time stamp [s]\")\n",
    "plt.ylabel(\"accel [G]\")\n",
    "plt.title(\"Acceleration\")\n",
    "plt.plot()"
   ]
  },
  {
   "cell_type": "code",
   "execution_count": null,
   "metadata": {},
   "outputs": [],
   "source": []
  },
  {
   "cell_type": "markdown",
   "metadata": {},
   "source": [
    "# ----------------------------"
   ]
  },
  {
   "cell_type": "code",
   "execution_count": 1,
   "metadata": {},
   "outputs": [],
   "source": [
    "import pandas as pd\n",
    "import numpy as np\n",
    "from sklearn.svm import SVC\n",
    "from sklearn.pipeline import Pipeline\n",
    "from sklearn.model_selection import KFold\n",
    "from sklearn.metrics import confusion_matrix\n",
    "from sklearn.metrics import precision_score\n",
    "from sklearn.metrics import recall_score\n",
    "from sklearn.preprocessing import StandardScaler\n",
    "from scipy import stats as s\n",
    "from sklearn.metrics import classification_report\n"
   ]
  },
  {
   "cell_type": "code",
   "execution_count": 3,
   "metadata": {},
   "outputs": [],
   "source": [
    "def col_name():\n",
    "    p0 = ['x','y','z']\n",
    "    marker =[]\n",
    "    p2 =[]\n",
    "    for a in range(1,44):       #Mocapマーカー数:43個\n",
    "        p1='m'+ str(a)\n",
    "        for b in p0:\n",
    "            p2 = p1 + b\n",
    "            marker.append(p2)\n",
    "    return marker"
   ]
  },
  {
   "cell_type": "code",
   "execution_count": 4,
   "metadata": {},
   "outputs": [],
   "source": [
    "def read_mocap(file):\n",
    "    data_mocap = pd.read_csv(file,sep=' ',header=None)\n",
    "    #座標値列の列名変更\n",
    "    data_mocap=data_mocap.rename(columns={data_mocap.columns[a]:col_name()[a] for a in range(129)} )\n",
    "    #座標値列以外の列名変更\n",
    "    data_mocap=data_mocap.rename(columns={129:'FrameNumber',130:'TimeStamp'})\n",
    "    return data_mocap"
   ]
  },
  {
   "cell_type": "code",
   "execution_count": 5,
   "metadata": {},
   "outputs": [],
   "source": [
    "#fix NaN\n",
    "def fix_NaN(data):\n",
    "    for  c  in  data.columns:\n",
    "        col = data[c]  #'X'列から1列ずつ見る\n",
    "        for r in range(len(data)):  #1行ずつ見る\n",
    "            if col[r] == 0.0:       #0値が見つかれば\n",
    "                data.iloc[r][c] = 'NaN' #'NaN'を代入\n",
    "    mc_clean = data.interpolate()\n",
    "    mc_clean = mc_clean.fillna(0)\n",
    "    return mc_clean\n",
    "\n",
    "def obtain_statistical_feature(window):\n",
    "    #features = np.array(np.array(np.var(window, axis=0)))\n",
    "    #features=np.array(np.array(np.mean(window-np.mean(window), axis=0)))\n",
    "    features=np.array( np.array(np.mean(window-np.median(window), axis=0))) \n",
    "    features=np.append(features, np.array(np.std(window, axis=0))) \n",
    "    features=np.append(features, np.array(np.var(window, axis=0)))\n",
    "    features=np.append(features, np.array(s.skew(window, axis=0)))\n",
    "    features=np.append(features, np.array(s.kurtosis(window, axis=0)))\n",
    "    features=np.append(features, np.array(get_tw_variance(window)))\n",
    "    return features.reshape(1,len(features))\n",
    "\n",
    "def get_tw_variance(window):\n",
    "    total_cols = window.shape[1]\n",
    "    tw_var = []\n",
    "    for i in range (total_cols):\n",
    "        column = window.iloc[:,i]\n",
    "        tw_var.append(get_tw_col_var(column))\n",
    "    return tw_var\n",
    "\n",
    "\n",
    "def get_tw_col_var(column):\n",
    "    mean = np.mean(column)\n",
    "    total = len(column)\n",
    "    \n",
    "    v_sum = 0\n",
    "    for i in range(total):\n",
    "        w = np.exp(-0.5*(total-i))\n",
    "        #print(\"el peso\", w, \"indice\", i, \"total\", total)\n",
    "        v = w*np.square(column.iloc[i]-mean)\n",
    "        v_sum += v\n",
    "    return v_sum"
   ]
  },
  {
   "cell_type": "code",
   "execution_count": 6,
   "metadata": {},
   "outputs": [],
   "source": [
    "#速度加速度を求める関数を定義\n",
    "def cal_va(data):\n",
    "    diffs = pd.DataFrame()\n",
    "    for i in range(len(data)-1):\n",
    "        diff = data.iloc[i+1]-data.iloc[i]\n",
    "        diffs = diffs.append(diff,ignore_index=True) \n",
    "    vs = pd.DataFrame()\n",
    "    for i in range(len(diffs)):\n",
    "        v = diffs.iloc[i][1:]/diffs.iloc[i][\"TimeStamp\"]\n",
    "        vs = vs.append(v,ignore_index=True)\n",
    "    return vs"
   ]
  },
  {
   "cell_type": "code",
   "execution_count": 7,
   "metadata": {},
   "outputs": [],
   "source": [
    "def main_functuion(sampling_rate,*markers):\n",
    "    x = np.empty([0,3*6*len(markers)])\n",
    "    y = np.empty([0,])\n",
    "    #Read all mocap data\n",
    "    #subjects =  [\"01\",\"02\",\"03\",\"04\",\"05\",\"06\",\"07\",\"08\",\"09\",\"10\",\"11\",\"12\"]\n",
    "    #actions = [\"01\",\"02\",\"03\",\"04\",\"05\",\"06\",\"07\",\"08\",\"09\",\"10\",\"11\"]\n",
    "    subjects =  [\"01\",\"02\"]#,\"03\",\"04\"]\n",
    "    actions = [\"01\",\"02\"]#,\"03\",\"04\",\"05\"]\n",
    "    for subject in subjects:\n",
    "        for action in actions:\n",
    "            for record in range(1,3):\n",
    "                try:\n",
    "                    data = read_mocap('/Users/takeshin/ws/BerkeleyMHAD/Mocap/OpticalData/moc_s'+str(subject)+'_a'+str(action)+'_r0'+str(record)+'.txt')\n",
    "                    print('moc_s'+str(subject)+'_a'+str(action)+'_r0'+str(record)+'.txt')\n",
    "                except:\n",
    "                    print(\"No File\")\n",
    "                #data = data[['m'+str(marker_n)+'x','m'+str(marker_n)+'y','m'+str(marker_n)+'z','TimeStamp']]\n",
    "                columns = [['m'+str(i)+'x','m'+str(i)+'y','m'+str(i)+'z'] for i in markers]\n",
    "                cols = np.array(columns)\n",
    "                cols = list(np.ravel(cols))\n",
    "                cols.append(\"TimeStamp\")\n",
    "                data = data[cols]\n",
    "                data = fix_NaN(data)\n",
    "                \n",
    "                i = 0\n",
    "                mc_ds = pd.DataFrame()\n",
    "                #処理\n",
    "                while  i < (len(data)//(480//sampling_rate))*(480//sampling_rate):\n",
    "                    mc_ds = mc_ds.append(data.iloc[i : i+(480//sampling_rate),:].mean(),ignore_index=True)\n",
    "                    i+=(480//sampling_rate)\n",
    "                     \n",
    "                mc_ds = mc_ds.append(data.iloc[i : i+(480//sampling_rate)-1,:].mean(),ignore_index=True)\n",
    "                \n",
    "                #x座標 v[mm/s]\n",
    "                #x_v = cal_va(mc_ds).iloc[:,0]\n",
    "                #y座標 v[mm/s]\n",
    "                #y_v = cal_va(mc_ds).iloc[:,1]\n",
    "                #z座標 v[mm/s]\n",
    "                #z_v = cal_va(mc_ds).iloc[:,2]\n",
    "                v = cal_va(mc_ds)\n",
    "                times = mc_ds['TimeStamp'].shift(periods=-1)\n",
    "                mc_v = pd.DataFrame(v)\n",
    "                mc_v[\"TimeStamp\"]=times\n",
    "                mc_v = mc_v.dropna()\n",
    "                \n",
    "                \n",
    "                #加速度計算 acceleration\n",
    "                #x_a = cal_va(mc_v).iloc[:,0]\n",
    "                #y\n",
    "               # y_a = cal_va(mc_v).iloc[:,1]\n",
    "                #z\n",
    "                #z_a = cal_va(mc_v).iloc[:,2] \n",
    "                \n",
    "                a = cal_va(mc_v)\n",
    "                times = mc_v['TimeStamp'].shift(periods=-1)\n",
    "                mc_a = pd.DataFrame(a)\n",
    "                mc_a[\"TimeStamp\"]=times\n",
    "                mc_a = mc_a.dropna()\n",
    "                \n",
    "                 \n",
    "                #単位を[G]に変換  [mm/s^2] →  [G]\n",
    "                accel = mc_a.loc[:, mc_a.columns != 'TimeStamp']*0.001/9.80665\n",
    "                accel = accel.rolling(window= 10, center=False).mean()\n",
    "                accel = accel.dropna()\n",
    "                sf = obtain_statistical_feature(accel)\n",
    "                #accel = pd.concat([accel,mc_a[\"TimeStamp\"]], axis=1)\n",
    "                \n",
    "                \n",
    "                \n",
    "                x =np.append(x,sf, axis=0)\n",
    "                y = np.append(y,[action], axis=0)\n",
    "            \n",
    "    return x, y"
   ]
  },
  {
   "cell_type": "code",
   "execution_count": 8,
   "metadata": {
    "scrolled": true
   },
   "outputs": [
    {
     "name": "stdout",
     "output_type": "stream",
     "text": [
      "moc_s01_a01_r01.txt\n",
      "moc_s01_a01_r02.txt\n",
      "moc_s01_a02_r01.txt\n",
      "moc_s01_a02_r02.txt\n",
      "moc_s02_a01_r01.txt\n",
      "moc_s02_a01_r02.txt\n",
      "moc_s02_a02_r01.txt\n",
      "moc_s02_a02_r02.txt\n"
     ]
    }
   ],
   "source": [
    "x,y=main_functuion(30,16,17,18)   "
   ]
  },
  {
   "cell_type": "code",
   "execution_count": null,
   "metadata": {},
   "outputs": [],
   "source": [
    "len(x[0])"
   ]
  },
  {
   "cell_type": "code",
   "execution_count": null,
   "metadata": {},
   "outputs": [],
   "source": [
    "def ml_ar(X,y):                              \n",
    "    #Try classifier\n",
    "    estimators = []\n",
    "    estimators.append(('standardize', StandardScaler()))\n",
    "    estimators.append(('clf', SVC(kernel='linear')))\n",
    "    model = Pipeline(estimators)\n",
    "    \n",
    "    seed = 11\n",
    "    kf = KFold(n_splits=3, random_state=seed, shuffle=True)\n",
    "    accuracy = [] \n",
    "    \n",
    "    for train_index, test_index in kf.split(X):\n",
    "        X_train, X_test = X[train_index], X[test_index]\n",
    "        y_train, y_test = y[train_index], y[test_index]\n",
    "        model.fit(X_train, y_train)\n",
    "        acc_train = model.score(X_train, y_train)\n",
    "        acc_test = model.score(X_test, y_test)\n",
    "        accuracy.append(acc_test)\n",
    "        #print('Accuracy on training set: {:.2f}'\n",
    "        #  .format(model.score(X_train, y_train)))\n",
    "        #print('Accuracy on test set: {:.2f}'\n",
    "        #  .format(model.score(X_test, y_test)))\n",
    "        y_pred = model.predict(X_test)\n",
    "        conf = confusion_matrix(y_test, y_pred)\n",
    "        precision = precision_score(y_test, y_pred,average='macro') \n",
    "        recall = recall_score(y_test, y_pred,average='macro')\n",
    "        print(\"*Accuracy* train:\",acc_train, \"test:\",acc_test)\n",
    "        #print(conf)\n",
    "        #print (\"precision:\",precision,\"recall:\",recall)\n",
    "        actions = [\"01\",\"02\",\"03\",\"04\",\"05\",\"06\",\"07\",\"08\",\"09\",\"10\",\"11\"]\n",
    "        #actions = [\"Jumping in place\",\"Jumping jacks\",\"Bending-hands up all the way down\",\"Punching(boxing)\",\"Waving-two hands\",\"Waving - one hand (right)\",\"Clapping hands\",\"Throwing a ball\",\"09\",\"10\",\"11\"]\n",
    "        print(classification_report(y_test, y_pred, target_names=actions))\n",
    "        print(\"-----------\")\n",
    "    print(\"*test_ave*\",sum(accuracy)/len(accuracy))"
   ]
  },
  {
   "cell_type": "code",
   "execution_count": null,
   "metadata": {
    "scrolled": false
   },
   "outputs": [],
   "source": [
    "ml_ar(x,y)"
   ]
  },
  {
   "cell_type": "code",
   "execution_count": null,
   "metadata": {},
   "outputs": [],
   "source": []
  },
  {
   "cell_type": "code",
   "execution_count": null,
   "metadata": {},
   "outputs": [],
   "source": []
  },
  {
   "cell_type": "code",
   "execution_count": null,
   "metadata": {},
   "outputs": [],
   "source": [
    "def select_markers(*markers):\n",
    "    #markers = [16,17]\n",
    "    columns = [['m'+str(i)+'x','m'+str(i)+'y','m'+str(i)+'z'] for i in markers]\n",
    "    #columns = reduce(add, columns)\n",
    "    #columns.append(\"TimeStamp\")\n",
    "    cols = np.array(columns)\n",
    "    cols = list(np.ravel(cols))\n",
    "    cols.append(\"TimeStamp\")\n",
    "    return cols\n",
    "    #return columns"
   ]
  },
  {
   "cell_type": "code",
   "execution_count": null,
   "metadata": {},
   "outputs": [],
   "source": [
    "columns = [['m'+str(i)+'x','m'+str(i)+'y','m'+str(i)+'z'] for i in [16,17]]  \n",
    "cols = np.array(columns)\n",
    "cols = list(np.ravel(cols))\n",
    "cols.append(\"TimeStamp\")"
   ]
  },
  {
   "cell_type": "code",
   "execution_count": null,
   "metadata": {},
   "outputs": [],
   "source": [
    "[cols]"
   ]
  },
  {
   "cell_type": "code",
   "execution_count": null,
   "metadata": {},
   "outputs": [],
   "source": []
  }
 ],
 "metadata": {
  "kernelspec": {
   "display_name": "Python 3",
   "language": "python",
   "name": "python3"
  },
  "language_info": {
   "codemirror_mode": {
    "name": "ipython",
    "version": 3
   },
   "file_extension": ".py",
   "mimetype": "text/x-python",
   "name": "python",
   "nbconvert_exporter": "python",
   "pygments_lexer": "ipython3",
   "version": "3.6.7"
  }
 },
 "nbformat": 4,
 "nbformat_minor": 2
}
